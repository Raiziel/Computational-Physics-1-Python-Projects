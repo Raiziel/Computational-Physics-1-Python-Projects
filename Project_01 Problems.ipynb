{
 "cells": [
  {
   "cell_type": "markdown",
   "metadata": {},
   "source": [
    "# Physics 300 \n",
    "## Computational Physics I (Fall 2017)\n",
    "## BPB-248, Tues/Thurs 10:00 - 11:15 am \n",
    "\n",
    "|Instructor| Prof. Qiang Zhu|\n",
    "|--|-------------------------------|\n",
    "|Email | qiang.zhu@unlv.edu|\n",
    "|Website|http://www.physics.unlv.edu/~qzhu/|\n",
    "|Office| BPB 232|\n",
    "|Office hours | Tues/Thurs 8:30 - 10:00 |"
   ]
  },
  {
   "cell_type": "markdown",
   "metadata": {},
   "source": [
    "# 11 X-ray diffraction I\n",
    "\n",
    "We haven't learned a series of fundamental techniques which have been frequently used in computational physics, such as intergrals, curve fitting and Fourier transform. I hope all students by far feel comfortable to write a piece of code with the help of on-line resoures to solve some numerical problems (such as fitting the curves, image processing, to simulate the interference of two waves. \n",
    "\n",
    "Based on the above assumption, let's proceed to the first big project in our class. A real problem is usually composed of several subproblems. Each subproblem only needs a small piece of code to solve it. To complete the whole project, we will need to know the followings, \n",
    "- 1, How to divide the problem into several parts?\n",
    "- 2, How to write the code for each subproblem?\n",
    "- 3, How to assemble these codes, \n",
    "\n",
    "It might sound challenging. Rome wasn't built in a day. We will do it in a week! In this week, we are going to work on a code to solve a quite representative problem in physics, that is, to calculate the X-ray diffraction."
   ]
  },
  {
   "cell_type": "markdown",
   "metadata": {},
   "source": [
    "## 11.1 Background\n",
    "Since German physiist Wihelm Rontgen firstly studied the X-rays, a form of electromagnetic radiation, scientists have found it could be very useful in determining the atomic and molecular structure of a crystal, which is usually the form of solid materials under thermodynamic equilibrium. \n",
    "\n",
    "One might be confused by the above statement. Let's get started by agreeing that X-ray is a form of wave, like light, sound or the water wave when we drop a pebble in a pond. What will happen when a wave encounters an obstacle. The waves might rebound, reflect, scatter or interfere each other knowns as _diffraction_. Diffraction is the most special case, it only happens when some conditions are met. Two waves will interfere only when the relative phases vary by 2$\\pi$ or more.\n",
    "\n",
    "We can find the angles at which the condition is satisfied. Assume the slit has a width of $d$\n",
    "$$2d\\sin\\theta = n\\lambda$$\n",
    "\n",
    "This is actually the famous _Bragg's law_. Suppose we have a infinite array of $d$, these specific directions appear as spots on the diffraction pattern. \n",
    "\n",
    "In an ideal crystal, we can choose infinite number of $d$, and obtain as many spots as we can. The differaction pattern (spot)\n",
    "is actually the fingerprint of the crystal structures. By solving diffraction pattern, we actually can solve the crystal structure. It is gonna be an entire semster of study to understand the X-ray crystallography. But let's just focus on\n",
    "one of the special topic. Suppose we already know the crystal structure, how can we simulate the diffraction pattern?\n",
    "\n",
    "Remeber the diffraction pattern is a set of spots, each spot contains the following information\n",
    "\n",
    "-  $d$, the spacing between diffracting planes\n",
    "- $\\theta$, the incident angle\n",
    "- $I$, the intensity of the spots.\n",
    "\n",
    "While, $\\theta$ and $d$ are correlated by the Bragg's law. So we just need to solve $d$ and $I$."
   ]
  },
  {
   "cell_type": "markdown",
   "metadata": {},
   "source": [
    "## 11.2 Interplanar spacing\n",
    "\n",
    "How many differents spacing we can have in a crystal? If we represent the crystal as a periodic packing of atoms in the three dimensional space. We can already find a smallest period, that is a box defined by three basis vectors.\n",
    "\n",
    "Suppose the box is a cube described by\n",
    "$$\n",
    "\\begin{bmatrix}\n",
    "    a & 0 & 0 \\\\\n",
    "    0 & a & 0 \\\\\n",
    "    0 & 0 & a\n",
    "\\end{bmatrix}\n",
    "$$\n",
    "\n",
    "Therefore, the interplanar spacing can be along $x, y, z$ direction. Each of them is equal to $a$.\n",
    "\n",
    "Are there any other choices to get the interplanar spacing. Yes, we can. If we repeat double the cell along $x,y,z$ direction,\n",
    "one could immdiately find we can also draw the line from different directions. \n",
    "\n",
    "### 11.2.1 Miller index\n",
    "In order to distinguish them, the cryallogrphors invented a convenient way to label them, which is so called _Miller indices_.\n",
    "\n",
    "A family of lattice planes is determined by three integers $h$, $k$, and $l$, the Miller indices. They are written ($hkl$), and denote the family of planes orthogonal to $hb1 +kb2 + lb3$, where $b_i$ are the basis of the reciprocal lattice vectors. By convention, negative integers are written with a bar, as in $\\bar{3}$ for -3.\n",
    "\n",
    "Try to label (200), (120) and calculate the corresponding $d$ values, suppose we have a cube with a unit length of 3.5 Å.\n",
    "\n",
    "If we keep increasing the cell size, we will actually find higher index planes featured with higher ($hkl$) values and smaller\n",
    "$d$ values.\n",
    "\n",
    "Do we need to go to extremely high ($hkl$) planes?\n",
    "\n",
    "### 11.2.3 The truncation of (hkl) planes\n",
    "If we return to the Bragg's law, we find that \n",
    "$$ d = \\frac{n\\lambda}{\\sin\\theta}$$\n",
    "\n",
    "The eqaution clearly tells that $d$ should have a minimum value of \n",
    "\n",
    "$$ d_\\text{min} = \\frac{\\lambda}{2}$$"
   ]
  },
  {
   "cell_type": "code",
   "execution_count": null,
   "metadata": {
    "collapsed": true
   },
   "outputs": [],
   "source": [
    "# Write a program to calculate all possible (hkl) planes and the corresponding d spacing for the following condition\n",
    "# 1, wavelength is 1.5487 Å \n",
    "# 2, lattice is a cube with a unit length of 3.5 Å."
   ]
  },
  {
   "cell_type": "markdown",
   "metadata": {},
   "source": [
    "## 11.3 Internsity\n",
    "\n",
    "The scattering intensity of the incident X-rays is more complicated, which is determined by the atomic scattering factor and the structure factor.\n",
    "\n",
    "### 11.3.1 Atomic scattering factor \n",
    "\n",
    "The atomic scattering factor ($f$) is a measure of the scattering amplitude of a wave by an isolated atom.\n",
    "Naively, we can think that the more electrons an atom has, the stronger factor it is (why?).\n",
    "Furthermore, the factor is also angle dependent. It is impossible to derive the analytic formula for this relation.\n",
    "Instead, a possible solution is to measure the data experimentally and then fit it into some particular form.\n",
    "\n",
    "The way which we are using is a 9-parameter equation by Don Cromer and J. Mann (http://www.ruppweb.org/Xray/comp/scatfac.htm):\n",
    "\n",
    "$$f(\\frac{\\sin\\theta}{\\lambda}) = \\sum_{i=1}^4 a_i e^{-b_i(\\frac{\\sin(\\theta)}{\\lambda})^2} + c $$\n",
    "\n",
    "where $a_i, b_i, c$ (i =1,2,3,4) are Cromer-Mann coefficients.\n",
    "\n",
    "The source of data is also available on line:\n",
    "https://physics.nist.gov/PhysRefData/FFast/html/form.html\n",
    "\n",
    "\n",
    "For simplicity, let's just consider the compound of NaCl. The parameters are the followings:\n",
    "\n",
    "\n",
    "|Element| a1 | a2 | a3 | a4 | b1 | b2 | b3 | b4 | c |\n",
    "|-------|----|----|----|----|----|----|----|----|---|\n",
    "|Na |4.763 |3.174 | 1.267|1.113|3.285|8.842|0.314|129.424|0.676|\n",
    "|Cl |11.460|7.196 |6.256 |1.645|0.010|1.166|18.519|47.778|-9.557|\n",
    "\n",
    "\n",
    "### 11.3.2 Structure factor\n",
    "\n",
    "Structure factor is a mathematical descriptor of a material scatters incident radiation, \n",
    "by looping over all atoms in the crystal unit cell.,\n",
    "\n",
    "$$ F = \\sum_{j=1}^n f_j e^{[2\\pi \\dot i(hx_j + ky_j + lz_j)]}$$\n",
    "\n",
    "where \n",
    "\n",
    "- {f_j} is the atomic scattering factor of the $j$-th atom, \n",
    "- $h, k, l$ are Miller indices\n",
    "- $x_j, y_j, z_j$ are the coordinates of the $j$-th atom in space. \n",
    "\n",
    "Note for each $\\theta$ or $d$, there would be a corresponding $F$ value, and the $F$ could be a complex number.\n",
    "\n",
    "Ideally, the intensity would be just the powder of $F$\n",
    "\n",
    "$$ I = |F|^2 $$\n",
    "\n",
    "### 11.3.3 Corrections\n",
    "\n",
    "However, we will still need to do a couple of corrections to obtain the intensity in real life.\n",
    "It is obvious that the direction of polarisation of an X-ray photon can change as a result of scattering/diffraction. In fact there are two extreme cases to consider; when the change is maximal or when there is no change, depending on whether the initial polarisation is or is not in the plane containing the pre- and post-scattered X-rays:\n",
    "- 1: Polarization in plane of scattering, $P=\\cos^2 2\\theta$\n",
    "- 2: Polarization perpendicular to plane of scattering, $P=1$\n",
    "- 3: the average: $P=(1+\\cos^2 2\\theta)/2$\n",
    "\n",
    "Moreover, the incoming X-rays are not strictly parallel, which induced a so called _Lorentz-polarization factor_ which depends on the different experimental setup.\n",
    "\n",
    "- 1: Laues Diffraction:  $1/\\sin^2 \\theta$\n",
    "- 2: Powder Diffraction: $1/(2\\sin^2 \\theta \\cos\\theta$)\n",
    "\n",
    "In our case, let's just use the following corrections:\n",
    "\n",
    "$$ I = |F|^2 \\frac{1+\\cos^2 2\\theta}{4\\sin^2 \\theta \\cos\\theta} $$\n",
    "\n",
    "\n"
   ]
  },
  {
   "cell_type": "code",
   "execution_count": 1,
   "metadata": {
    "collapsed": true
   },
   "outputs": [],
   "source": [
    "# Write a program to calculate all possible (100) planes for the following condition\n",
    "# 1, wavelength is 1.5487 Å \n",
    "# 2, lattice is a cube with a unit length of 3.5 Å.\n",
    "# 3，coordinates are \n",
    "#    Na1(0,0,0), Na2(0,1/2,1/2), Na3(1/2,1/2,0), Na4(1/2,0,1/2)\n",
    "#    Cl1(0,1/,0), Cl2(0,0,1/2), Cl3(1/2,0,0), Cl4(1/2,1/2,1/2)\n",
    "\n"
   ]
  },
  {
   "cell_type": "markdown",
   "metadata": {
    "collapsed": true
   },
   "source": [
    "## 11.4 Further Reading\n",
    "\n",
    "\n",
    "### X-ray principles\n",
    "a link of youtube video which illustrate the history, priciple of X-Ray Crystallography in a lovely way:\n",
    "\n",
    "https://www.youtube.com/watch?v=gBxZVF3s4cU\n",
    "\n",
    "### Code\n",
    "I also created a github page while preparing for the lecture notes\n",
    "https://github.com/qzhu2017/XRD"
   ]
  },
  {
   "cell_type": "code",
   "execution_count": null,
   "metadata": {
    "collapsed": true
   },
   "outputs": [],
   "source": []
  }
 ],
 "metadata": {
  "kernelspec": {
   "display_name": "Python 3",
   "language": "python",
   "name": "python3"
  },
  "language_info": {
   "codemirror_mode": {
    "name": "ipython",
    "version": 3
   },
   "file_extension": ".py",
   "mimetype": "text/x-python",
   "name": "python",
   "nbconvert_exporter": "python",
   "pygments_lexer": "ipython3",
   "version": "3.6.1"
  }
 },
 "nbformat": 4,
 "nbformat_minor": 2
}
