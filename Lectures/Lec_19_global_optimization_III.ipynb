{
 "cells": [
  {
   "cell_type": "markdown",
   "metadata": {},
   "source": [
    "# Physics 300 \n",
    "## Computational Physics I (Fall 2018)\n",
    "## BPB-248, Mon/Wed 02:30 - 03:45 pm \n",
    "\n",
    "|Instructor| Prof. Qiang Zhu|\n",
    "|--|-------------------------------|\n",
    "|Email | qiang.zhu@unlv.edu|\n",
    "|Website|http://www.physics.unlv.edu/~qzhu/|\n",
    "|Office| BPB 232|\n",
    "|Office hours | Mon/Wed 03:45 - 05:00 pm |"
   ]
  },
  {
   "cell_type": "markdown",
   "metadata": {},
   "source": [
    "# 19 Global Optmization (III)\n",
    "\n",
    "## 19.1 Simulated Annealing\n",
    "\n",
    "Simulated Annealing is a very populare optimization algorithm \n",
    "because it’s very robust to different types of functions (e.g. no continuity, differentiability or dimensionality requirements) and can find global minima/maxima.\n",
    "\n",
    "Simulated annealing mimics a phenomenon in nature--the annealing of solid metals--to optimize a complex system. \n",
    "Annealing refers to heating a solid and then cooling it slowly. \n",
    "Atoms then assume a nearly globally minimum energy state. \n",
    "The simulated annealing algorithm simulates a small random displacement of an atom that results in a change in energy. \n",
    "- If the change in energy is negative, the energy state of the new configuration is lower and the new configuration is accepted. \n",
    "- If the change in energy is positive, the new configuration has a higher energy state may or not be accepted. \n",
    "\n",
    "The acceptance rate is according to the Boltzmann probability factor:\n",
    "$$ P = \\exp(\\frac{-\\Delta E}{kT}) $$\n"
   ]
  },
  {
   "cell_type": "markdown",
   "metadata": {},
   "source": [
    "# 19.2 The basic algorithm\n",
    "Here's a really high-level overview. It skips some very important details, which we'll get to in a moment.\n",
    "\n",
    "- 1, generate a random solution\n",
    "- 2, evaluate the objective function\n",
    "- 3, generate a random neighboring solution\n",
    "- 4, evluate the objective function for the new solution\n",
    "- 5, Compare them:\n",
    "    * 5.1 If Obj(new) < Obj(old): move to the new solution\n",
    "    * 5.2 If Obj(new) > Obj(old): maybe move to the new solution\n",
    "- 6 Repeat steps 3-5 above until an acceptable solution is found or you reach some maximum number of iterations.\n",
    "\n"
   ]
  },
  {
   "cell_type": "markdown",
   "metadata": {},
   "source": [
    "# 19.3 Application to LJ clusters\n",
    "\n",
    "To get started, let us firstly copy the code to calculating the energy from Lec_20."
   ]
  },
  {
   "cell_type": "code",
   "execution_count": 2,
   "metadata": {
    "collapsed": true
   },
   "outputs": [],
   "source": [
    "import numpy as np\n",
    "\n",
    "def LJ(r):\n",
    "    r6 = r**6\n",
    "    r12 = r6*r6\n",
    "    return 4*(1/r12 - 1/r6)\n",
    "\n",
    "def total_energy(positions):\n",
    "    \"\"\"\n",
    "    Calculate the total energy\n",
    "    input:\n",
    "    positions: 3*N array which represents the atomic positions\n",
    "    output\n",
    "    E: the total energy\n",
    "    \"\"\"\n",
    "    E = 0\n",
    "    N_atom = int(len(positions)/3)\n",
    "\n",
    "    #positions = [x0, y0, z0, x1, y1, z1, .....  , xn, yn, zn]\n",
    "    for i in range(N_atom-1):\n",
    "        for j in range(i+1, N_atom):\n",
    "            pos1 = positions[i*3:(i+1)*3]\n",
    "            pos2 = positions[j*3:(j+1)*3]\n",
    "            #print('pos1:  ', pos1)\n",
    "            #print('pos2:  ', pos2)\n",
    "            dist = np.linalg.norm(pos1-pos2)\n",
    "            #print(i,j, dist)\n",
    "            E += LJ(dist)\n",
    "    return E\n",
    "            \n",
    "def init_pos(N, L=5):\n",
    "    return L*np.random.random_sample((N*3,))\n"
   ]
  },
  {
   "cell_type": "markdown",
   "metadata": {},
   "source": [
    "In order to implement the simulated annealing algorithm, we need to construct three functions:\n",
    "- 1, generate the neighboring solution based on the current position\n",
    "- 2, calculate the accepetance rate based on the objective difference\n",
    "- 3, the actual simulated annealing algorithm"
   ]
  },
  {
   "cell_type": "code",
   "execution_count": 3,
   "metadata": {
    "collapsed": true
   },
   "outputs": [],
   "source": [
    "def neighbor(pos_now, kT):\n",
    "    N = len(pos_now)\n",
    "    return pos_now + kT*np.random.random_sample((N,))\n",
    "\n",
    "def acceptance_probability(dE, kT):\n",
    "    if dE<0:\n",
    "        return 1\n",
    "    else:\n",
    "        return np.exp(-dE/kT)\n"
   ]
  },
  {
   "cell_type": "code",
   "execution_count": 4,
   "metadata": {},
   "outputs": [
    {
     "name": "stdout",
     "output_type": "stream",
     "text": [
      "accept new energy:  -1.11125953265  acceptance ratio:  1\n",
      "accept new energy:  -1.08882279917  acceptance ratio:  0.638435472502\n",
      "accept new energy:  -1.10643613475  acceptance ratio:  1\n",
      "accept new energy:  -1.1761128945  acceptance ratio:  1\n",
      "accept new energy:  -1.16608004105  acceptance ratio:  0.818192967212\n",
      "accept new energy:  -1.20016035944  acceptance ratio:  1\n",
      "accept new energy:  -1.25810341607  acceptance ratio:  1\n",
      "accept new energy:  -1.21495206038  acceptance ratio:  0.42188305939\n",
      "accept new energy:  -1.17881476977  acceptance ratio:  0.485417558948\n",
      "accept new energy:  -1.19629250361  acceptance ratio:  1\n",
      "accept new energy:  -1.12308183378  acceptance ratio:  0.231259829715\n",
      "accept new energy:  -1.10010833943  acceptance ratio:  0.631618385868\n",
      "accept new energy:  -1.09072473687  acceptance ratio:  0.828886494942\n",
      "accept new energy:  -1.01105601756  acceptance ratio:  0.203238647678\n",
      "accept new energy:  -0.983087932049  acceptance ratio:  0.571573777096\n",
      "accept new energy:  -1.02114863541  acceptance ratio:  1\n"
     ]
    },
    {
     "data": {
      "text/plain": [
       "(array([ 2.68017179,  3.86487653,  2.8101071 ,  2.33004029,  3.13239558,\n",
       "         1.08801636,  1.29218395,  3.20737945,  2.8449114 ,  1.47300923,\n",
       "         1.48565449,  3.06883616,  2.6692888 ,  0.73883131,  3.2188816 ]),\n",
       " -1.0211486354115968,\n",
       " 16)"
      ]
     },
     "execution_count": 4,
     "metadata": {},
     "output_type": "execute_result"
    }
   ],
   "source": [
    "def simulated_annealling_v1(N_atom=8, Max_iteration=10, kT = 0.05):\n",
    "\n",
    "    pos_now = init_pos(N_atom)\n",
    "    obj_now = total_energy(pos_now)\n",
    "    accept_count = 0\n",
    "\n",
    "    for i in range(Max_iteration):\n",
    "        pos_new = neighbor(pos_now, kT)\n",
    "        obj_new = total_energy(pos_new)\n",
    "        ap = acceptance_probability(obj_new-obj_now, kT)\n",
    "        if ap > np.random.random():\n",
    "            print('accept new energy: ', obj_new, ' acceptance ratio: ', ap)\n",
    "            obj_now = obj_new\n",
    "            pos_now = pos_new\n",
    "            accept_count += 1\n",
    "    return pos_now, obj_now, accept_count\n",
    "\n",
    "simulated_annealling_v1(N_atom=5, Max_iteration=20, kT=0.05)"
   ]
  },
  {
   "cell_type": "markdown",
   "metadata": {},
   "source": [
    "## Quiz\n",
    "The above code only evaluates the total energy for the given position. As we mentioned,\n",
    "a better way is to perform local optmization on each position.\n",
    "How to adapt the code to make it work?"
   ]
  },
  {
   "cell_type": "code",
   "execution_count": 17,
   "metadata": {},
   "outputs": [
    {
     "name": "stdout",
     "output_type": "stream",
     "text": [
      "accept new energy:  -12.302927481295068  acceptance ratio:  0.999999975555\n",
      "accept new energy:  -12.30292752782876  acceptance ratio:  1\n",
      "accept new energy:  -12.302927528279193  acceptance ratio:  1\n",
      "accept new energy:  -12.30292747907528  acceptance ratio:  0.999999967197\n",
      "accept new energy:  -12.302927509809715  acceptance ratio:  1\n",
      "accept new energy:  -12.302927523341006  acceptance ratio:  1\n",
      "accept new energy:  -12.302927504463769  acceptance ratio:  0.999999987415\n",
      "accept new energy:  -12.302927523680125  acceptance ratio:  1\n",
      "accept new energy:  -12.302927515471008  acceptance ratio:  0.999999994527\n",
      "accept new energy:  -12.302927503517502  acceptance ratio:  0.999999992031\n",
      "accept new energy:  -12.302927515562683  acceptance ratio:  1\n",
      "accept new energy:  -12.302927507204107  acceptance ratio:  0.999999994428\n",
      "accept new energy:  -12.30292746610433  acceptance ratio:  0.9999999726\n",
      "accept new energy:  -12.30292752263604  acceptance ratio:  1\n",
      "accept new energy:  -12.302927526196754  acceptance ratio:  1\n",
      "accept new energy:  -12.302927512109122  acceptance ratio:  0.999999990608\n",
      "accept new energy:  -12.302927513940359  acceptance ratio:  1\n",
      "accept new energy:  -12.30292751481587  acceptance ratio:  1\n",
      "accept new energy:  -7.000764976253276  acceptance ratio:  0.0291653176981\n",
      "accept new energy:  -7.000543428724662  acceptance ratio:  0.999852312554\n"
     ]
    },
    {
     "data": {
      "text/plain": [
       "(array([ 20.86644925,  17.4211011 ,  17.27895601,  17.1929823 ,\n",
       "         15.83571824,  13.55779376,  17.45566149,  18.68676317,\n",
       "         16.46832245,  17.1258288 ,  15.05986361,  20.50629211,\n",
       "         16.15067417,  19.95357318,  15.34146391,  14.91772321,\n",
       "         11.65747541,  19.59647493]), -7.000543428724662, 20)"
      ]
     },
     "execution_count": 17,
     "metadata": {},
     "output_type": "execute_result"
    }
   ],
   "source": [
    "# perform local optmization in SA code\n",
    "from scipy.optimize import minimize\n",
    "\n",
    "\n",
    "def simulated_annealling_v2(N_atom=8, Max_iteration=10, kT=0.05):\n",
    "    pos_now = init_pos(N_atom)\n",
    "    # -------------Complete your code here -----------\n",
    "    res = minimize(total_energy, pos_now, method='CG', tol=1e-3)        \n",
    "    obj_now = res.fun\n",
    "    # -------------Complete your code here -----------\n",
    "    accept_count = 0\n",
    "\n",
    "    for i in range(Max_iteration):\n",
    "        pos_new = neighbor(pos_now, kT)\n",
    "        # -------------Complete your code here -----------\n",
    "        res = minimize(total_energy, pos_new, method='CG', tol=1e-3)        \n",
    "        obj_new = res.fun\n",
    "        # -------------Complete your code here -----------\n",
    "        ap = acceptance_probability(obj_new-obj_now, kT)\n",
    "        if ap > np.random.random():\n",
    "            print('accept new energy: ', obj_new, ' acceptance ratio: ', ap)\n",
    "            obj_now = obj_new\n",
    "            pos_now = pos_new\n",
    "            accept_count += 1\n",
    "    return pos_now, obj_now, accept_count\n",
    "\n",
    "simulated_annealling_v2(N_atom=6, Max_iteration=50, kT=1.5)"
   ]
  },
  {
   "cell_type": "markdown",
   "metadata": {},
   "source": [
    "## 19.4 The factors determing the acceptance rate\n",
    "\n",
    "By examining this equation of probability function, we should note two thing\n",
    "- 1. the probability is proportional to temperature--as the solid cools, the probability gets smaller; \n",
    "- 2. the probability is inversely proportional to --as the change in energy is larger the probability of accepting the change gets smaller.\n",
    "\n",
    "The kT term, just as shown in the equation, exactly means the temperature. With higher temperature, the atoms tends to \n",
    "fluctuate more and thus could become easier to accept the moves.\n",
    "As many other global optimization methods, the simulated annealing could also get stuck in the local minima.\n",
    "The recipe to escape from the local minima is to enhance the fluctuation by increasing the temperature.\n",
    "### Quiz\n",
    "Can we always use a very big temperature?"
   ]
  },
  {
   "cell_type": "code",
   "execution_count": 47,
   "metadata": {},
   "outputs": [
    {
     "data": {
      "image/png": "[encoded data removed]",
      "text/plain": [
       "<matplotlib.figure.Figure at 0x10e5b1048>"
      ]
     },
     "metadata": {},
     "output_type": "display_data"
    }
   ],
   "source": [
    "import matplotlib.pyplot as plt\n",
    "import numpy as np\n",
    "\n",
    "x = np.linspace(0,2,100)\n",
    "plt.plot(x, np.exp(-x/0.1), label='kT = 0.1')\n",
    "plt.plot(x, np.exp(-x/1.0), label='kT = 1')\n",
    "plt.plot(x, np.exp(-x/10.0), label='kT = 10')\n",
    "plt.plot(x, np.exp(-x/100.0), label='kT = 100')\n",
    "plt.legend()\n",
    "plt.xlabel('$\\Delta{E}$')\n",
    "plt.ylabel('P(accept)')\n",
    "plt.show()\n"
   ]
  },
  {
   "cell_type": "markdown",
   "metadata": {},
   "source": [
    "# 19.5 Changing kT in optimization"
   ]
  },
  {
   "cell_type": "code",
   "execution_count": 15,
   "metadata": {},
   "outputs": [
    {
     "name": "stdout",
     "output_type": "stream",
     "text": [
      "accept new energy:  -12.302927509462759  acceptance ratio:  0.999999985151\n",
      "accept new energy:  -12.302927499289643  acceptance ratio:  0.999999989827\n",
      "accept new energy:  -12.302927521351986  acceptance ratio:  1\n",
      "accept new energy:  -12.302927517967849  acceptance ratio:  0.999999996616\n",
      "accept new energy:  -12.302927509649798  acceptance ratio:  0.999999991682\n",
      "accept new energy:  -12.3029275145555  acceptance ratio:  1\n",
      "accept new energy:  -12.302927503597381  acceptance ratio:  0.999999989042\n",
      "accept new energy:  -12.302927523687542  acceptance ratio:  1\n",
      "accept new energy:  -12.302927505639172  acceptance ratio:  0.999999981952\n",
      "accept new energy:  -12.302927508283268  acceptance ratio:  1\n",
      "accept new energy:  -12.302927517690636  acceptance ratio:  1\n",
      "accept new energy:  -12.302927518156672  acceptance ratio:  1\n",
      "accept new energy:  -12.302927514251813  acceptance ratio:  0.999999996095\n",
      "accept new energy:  -12.302927503106943  acceptance ratio:  0.999999988855\n",
      "accept new energy:  -12.302927512036064  acceptance ratio:  1\n",
      "accept new energy:  -12.30292752319297  acceptance ratio:  1\n",
      "accept new energy:  -12.302927523504199  acceptance ratio:  1\n",
      "accept new energy:  -12.302927519478468  acceptance ratio:  0.999999995974\n",
      "accept new energy:  -12.302927512442194  acceptance ratio:  0.999999992964\n",
      "accept new energy:  -12.302927522971855  acceptance ratio:  1\n",
      "accept new energy:  -12.302927522400406  acceptance ratio:  0.999999999429\n",
      "accept new energy:  -12.30292752758758  acceptance ratio:  1\n",
      "accept new energy:  -12.30292751916506  acceptance ratio:  0.999999991577\n",
      "accept new energy:  -12.302927493236753  acceptance ratio:  0.999999974072\n",
      "accept new energy:  -12.302927522299921  acceptance ratio:  1\n",
      "accept new energy:  -12.302927492568482  acceptance ratio:  0.999999970269\n",
      "accept new energy:  -12.302927493714224  acceptance ratio:  1\n",
      "accept new energy:  -12.302927519341829  acceptance ratio:  1\n",
      "accept new energy:  -12.302927504400218  acceptance ratio:  0.999999985058\n",
      "accept new energy:  -12.30292747678255  acceptance ratio:  0.999999972382\n",
      "accept new energy:  -12.302927507234655  acceptance ratio:  1\n",
      "accept new energy:  -12.302927521515867  acceptance ratio:  1\n",
      "accept new energy:  -12.712062253536718  acceptance ratio:  1\n",
      "accept new energy:  -12.302927515791136  acceptance ratio:  0.66422473015\n",
      "accept new energy:  -12.302927521651874  acceptance ratio:  1\n",
      "accept new energy:  -12.30292747197039  acceptance ratio:  0.999999950319\n",
      "accept new energy:  -12.30292748830571  acceptance ratio:  1\n",
      "accept new energy:  -12.302927515887998  acceptance ratio:  1\n",
      "accept new energy:  -12.302927501049094  acceptance ratio:  0.999999985161\n",
      "accept new energy:  -12.302927510404423  acceptance ratio:  1\n",
      "accept new energy:  -12.302927464909834  acceptance ratio:  0.999999954505\n",
      "accept new energy:  -12.302927517396075  acceptance ratio:  1\n",
      "accept new energy:  -12.302927523702184  acceptance ratio:  1\n",
      "accept new energy:  -12.302927477661804  acceptance ratio:  0.99999995396\n",
      "accept new energy:  -12.302927500614375  acceptance ratio:  1\n",
      "accept new energy:  -12.302927482916516  acceptance ratio:  0.999999982302\n",
      "accept new energy:  -12.302927525078557  acceptance ratio:  1\n",
      "accept new energy:  -12.302927481067204  acceptance ratio:  0.999999955989\n",
      "accept new energy:  -12.302927526234624  acceptance ratio:  1\n",
      "accept new energy:  -12.30292752406354  acceptance ratio:  0.999999997829\n",
      "accept new energy:  -9.104470452218866  acceptance ratio:  0.0408251456753\n",
      "accept new energy:  -9.10410852340195  acceptance ratio:  0.999638136671\n",
      "accept new energy:  -9.104121694934861  acceptance ratio:  1\n",
      "accept new energy:  -9.104047390324606  acceptance ratio:  0.99992569815\n",
      "accept new energy:  -9.104060225127604  acceptance ratio:  1\n",
      "accept new energy:  -9.104080723488181  acceptance ratio:  1\n",
      "accept new energy:  -9.104217237612545  acceptance ratio:  1\n",
      "accept new energy:  -9.10412858947856  acceptance ratio:  0.999911355795\n",
      "accept new energy:  -9.10421795059204  acceptance ratio:  1\n",
      "accept new energy:  -9.104192483903045  acceptance ratio:  0.999974533635\n",
      "accept new energy:  -9.10410830945368  acceptance ratio:  0.999915829093\n",
      "accept new energy:  -9.104037328644779  acceptance ratio:  0.99992902171\n"
     ]
    }
   ],
   "source": [
    "# perform local optmization in SA code\n",
    "from scipy.optimize import minimize\n",
    "\n",
    "def simulated_annealling_v3(N_atom=8, Max_iteration=10, kT=1.0):\n",
    "    energy_hist = []\n",
    "    pos_now = init_pos(N_atom)\n",
    "    res = minimize(total_energy, pos_now, method='CG', tol=1e-3)\n",
    "    obj_now = res.fun\n",
    "\n",
    "    for i in range(Max_iteration):\n",
    "        pos_new = neighbor(pos_now, kT)\n",
    "        res = minimize(total_energy, pos_new, method='CG', tol=1e-3)        \n",
    "        obj_new = res.fun\n",
    "        ap = acceptance_probability(obj_new-obj_now, kT)\n",
    "        if ap > np.random.random():\n",
    "            print('accept new energy: ', obj_new, ' acceptance ratio: ', ap)\n",
    "            obj_now = obj_new\n",
    "            pos_now = pos_new\n",
    "        energy_hist.append(obj_now)\n",
    "    return pos_now, obj_now, energy_hist\n",
    "\n",
    "pos_min, eng_min, eng_hist = simulated_annealling_v3(N_atom=6, Max_iteration=100, kT=1.0)"
   ]
  },
  {
   "cell_type": "code",
   "execution_count": 19,
   "metadata": {},
   "outputs": [
    {
     "data": {
      "image/png": "[encoded data removed]",
      "text/plain": [
       "<matplotlib.figure.Figure at 0x113375588>"
      ]
     },
     "metadata": {},
     "output_type": "display_data"
    }
   ],
   "source": [
    "import matplotlib.pyplot as plt\n",
    "\n",
    "plt.plot(eng_hist)\n",
    "plt.show()"
   ]
  },
  {
   "cell_type": "markdown",
   "metadata": {},
   "source": [
    "## 19.6 Project\n",
    "### Basin Hopping Algorithm\n",
    "Basin-hopping is a stochastic algorithm which attempts to find the global minimum of a smooth scalar function of one or more variables. The algorithm in its current form was described by David Wales and Jonathan Doye.\n",
    "http://www-wales.ch.cam.ac.uk/.\n",
    "\n",
    "The method has been descibed in the following two papers\n",
    "- http://pubs.acs.org/doi/pdf/10.1021/jp970984n\n",
    "- http://science.sciencemag.org/content/271/5248/484\n",
    "\n",
    "It has been implemented in scipy. To use it, one just need to do the following.\n",
    "\n",
    "```python\n",
    "from scipy.optimize import basinhopping\n",
    "\n",
    "N_atom = 12\n",
    "pos = init_pos(N_atom)\n",
    "res = basinhopping(total_energy, pos, niter=50, T=2.0, stepsize=3.0, disp=True)\n",
    "```\n",
    "\n",
    "The algorithm is very easy to implement. Here is another example.\n",
    "- https://gitlab.com/ase/ase/blob/master/ase/optimize/basin.py\n",
    "\n",
    "### Due by Nov. 28, 2018\n",
    "\n",
    "Please use basin hopping method to find all the ground states for LJ clusters for (N=10-20).\n",
    "\n",
    "Try to \n",
    "- 1, write down the priciples of basin hopping algorithm\n",
    "- 2, choose three numbers bewteen 10 - 20\n",
    "- 3, find the parameters which could lead to the global minimum.\n",
    "- 4, plot the energy evolutions as a function of steps.\n",
    "\n",
    "\n",
    "Extra\n",
    "- visulatization of energy landscape: http://pele-python.github.io/pele/#"
   ]
  },
  {
   "cell_type": "code",
   "execution_count": null,
   "metadata": {
    "collapsed": true
   },
   "outputs": [],
   "source": []
  }
 ],
 "metadata": {
  "kernelspec": {
   "display_name": "Python 3",
   "language": "python",
   "name": "python3"
  },
  "language_info": {
   "codemirror_mode": {
    "name": "ipython",
    "version": 3
   },
   "file_extension": ".py",
   "mimetype": "text/x-python",
   "name": "python",
   "nbconvert_exporter": "python",
   "pygments_lexer": "ipython3",
   "version": "3.7.0"
  }
 },
 "nbformat": 4,
 "nbformat_minor": 2
}
