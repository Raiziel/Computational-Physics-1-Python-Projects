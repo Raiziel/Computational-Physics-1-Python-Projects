{
 "cells": [
  {
   "cell_type": "code",
   "execution_count": 28,
   "metadata": {},
   "outputs": [],
   "source": [
    "# Nicholas Munoz Homework 2 \n",
    "from sympy import factorial\n",
    "import math\n",
    "import numpy \n",
    "import sys\n",
    "sys.setrecursionlimit(1500)"
   ]
  },
  {
   "cell_type": "code",
   "execution_count": 4,
   "metadata": {},
   "outputs": [
    {
     "name": "stdout",
     "output_type": "stream",
     "text": [
      "Enter a value for qa60\n",
      "Enter a value for Nb200\n",
      "Enter a value for Na300\n"
     ]
    }
   ],
   "source": [
    "qa = int(input(\"Enter a value for qa\"))\n",
    "Nb = int(input(\"Enter a value for Nb\"))\n",
    "Na = int(input(\"Enter a value for Na\"))\n",
    "qb = 100-qa"
   ]
  },
  {
   "cell_type": "code",
   "execution_count": 77,
   "metadata": {},
   "outputs": [],
   "source": [
    "def factorial(N):\n",
    "    #This Function Finds the Factorial of any number passed into it\n",
    "  \n",
    "    if N == 1:\n",
    "       return N\n",
    "    \n",
    "    else :\n",
    "       return N*factorial(N-1)"
   ]
  },
  {
   "cell_type": "code",
   "execution_count": 59,
   "metadata": {},
   "outputs": [],
   "source": [
    "def MultiplicityA(qa,Na):\n",
    "    factNuma=(qa+Na-1)\n",
    "    factNa=(Na-1)\n",
    "    factqa = qa\n",
    "    factNuma = factorial(factNuma)\n",
    "    factqa = factorial(factqa)\n",
    "    factNa = factorial(factNa)\n",
    "    OmegaA = (factNuma)/(factqa*factNa)\n",
    "\n",
    "    return (OmegaA)"
   ]
  },
  {
   "cell_type": "code",
   "execution_count": 60,
   "metadata": {},
   "outputs": [],
   "source": [
    "def MultiplicityB(qb,Nb):\n",
    "    factNumb=(qb+Nb-1)\n",
    "    factNb=(Nb-1)\n",
    "    factqb = qb\n",
    "    factNumb = factorial(factNumb)\n",
    "    factqb = factorial(factqb)\n",
    "    factNb = factorial(factNb)\n",
    "    OmegaB = (factNumb)/(factqb*factNb)\n",
    "\n",
    "    return (OmegaB)\n"
   ]
  },
  {
   "cell_type": "code",
   "execution_count": 61,
   "metadata": {},
   "outputs": [
    {
     "name": "stdout",
     "output_type": "stream",
     "text": [
      "Multiplicity of A: 1.303374942856698e+69\n",
      "Multiplicity of B: 5.268096860471741e+45\n",
      "Total Multiplicity: 6.866305444480905e+114\n"
     ]
    }
   ],
   "source": [
    "print (\"Multiplicity of A:\", MultiplicityA(qa,Na))\n",
    "print (\"Multiplicity of B:\", MultiplicityB(qb,Nb))\n",
    "print (\"Total Multiplicity:\", MultiplicityB(qb,Nb)*MultiplicityA(qa,Na))"
   ]
  },
  {
   "cell_type": "code",
   "execution_count": 70,
   "metadata": {},
   "outputs": [
    {
     "name": "stdout",
     "output_type": "stream",
     "text": [
      "enter a value for q2\n"
     ]
    }
   ],
   "source": [
    "q = int(input(\"enter a value for q\"))"
   ]
  },
  {
   "cell_type": "code",
   "execution_count": 71,
   "metadata": {},
   "outputs": [],
   "source": [
    "import matplotlib.pyplot as plt\n",
    "\n",
    "def Plot_Omega(Na, Nb, q):\n",
    "    \n",
    "    qa_series = range(q + 1)\n",
    "    Omega_A = []\n",
    "    Omega_B = []\n",
    "    \n",
    "    for qa in qa_series:\n",
    "        Omega_A.append((MultiplicityA(qa, Na)))\n",
    "        Omega_B.append((MultiplicityB(q-qa, Nb)))\n",
    "    \n",
    "    Omega_A = numpy.asarray(Omega_A)\n",
    "    Omega_B = numpy.asarray(Omega_B)\n",
    "    Omega_T = Omega_A * Omega_B\n",
    "    \n",
    "    plt.plot(qa_series, Omega_T, linewidth=1,color=\"red\")\n",
    "    plt.title(\"Multiplicity and Quantized Energy of Systems\")\n",
    "    plt.xlabel(\"$q_a$\")\n",
    "    plt.ylabel(\"Multiplicity\")"
   ]
  },
  {
   "cell_type": "code",
   "execution_count": 72,
   "metadata": {},
   "outputs": [
    {
     "ename": "RecursionError",
     "evalue": "maximum recursion depth exceeded in comparison",
     "output_type": "error",
     "traceback": [
      "\u001b[1;31m---------------------------------------------------------------------------\u001b[0m",
      "\u001b[1;31mRecursionError\u001b[0m                            Traceback (most recent call last)",
      "\u001b[1;32m<ipython-input-72-fe7d47152737>\u001b[0m in \u001b[0;36m<module>\u001b[1;34m\u001b[0m\n\u001b[1;32m----> 1\u001b[1;33m \u001b[0mPlot_Omega\u001b[0m\u001b[1;33m(\u001b[0m\u001b[0mNa\u001b[0m\u001b[1;33m,\u001b[0m\u001b[0mNb\u001b[0m\u001b[1;33m,\u001b[0m\u001b[0mq\u001b[0m\u001b[1;33m)\u001b[0m\u001b[1;33m\u001b[0m\u001b[1;33m\u001b[0m\u001b[0m\n\u001b[0m",
      "\u001b[1;32m<ipython-input-71-c4af08ecea6e>\u001b[0m in \u001b[0;36mPlot_Omega\u001b[1;34m(Na, Nb, q)\u001b[0m\n\u001b[0;32m      8\u001b[0m \u001b[1;33m\u001b[0m\u001b[0m\n\u001b[0;32m      9\u001b[0m     \u001b[1;32mfor\u001b[0m \u001b[0mqa\u001b[0m \u001b[1;32min\u001b[0m \u001b[0mqa_series\u001b[0m\u001b[1;33m:\u001b[0m\u001b[1;33m\u001b[0m\u001b[1;33m\u001b[0m\u001b[0m\n\u001b[1;32m---> 10\u001b[1;33m         \u001b[0mOmega_A\u001b[0m\u001b[1;33m.\u001b[0m\u001b[0mappend\u001b[0m\u001b[1;33m(\u001b[0m\u001b[1;33m(\u001b[0m\u001b[0mMultiplicityA\u001b[0m\u001b[1;33m(\u001b[0m\u001b[0mqa\u001b[0m\u001b[1;33m,\u001b[0m \u001b[0mNa\u001b[0m\u001b[1;33m)\u001b[0m\u001b[1;33m)\u001b[0m\u001b[1;33m)\u001b[0m\u001b[1;33m\u001b[0m\u001b[1;33m\u001b[0m\u001b[0m\n\u001b[0m\u001b[0;32m     11\u001b[0m         \u001b[0mOmega_B\u001b[0m\u001b[1;33m.\u001b[0m\u001b[0mappend\u001b[0m\u001b[1;33m(\u001b[0m\u001b[1;33m(\u001b[0m\u001b[0mMultiplicityB\u001b[0m\u001b[1;33m(\u001b[0m\u001b[0mq\u001b[0m\u001b[1;33m-\u001b[0m\u001b[0mqa\u001b[0m\u001b[1;33m,\u001b[0m \u001b[0mNb\u001b[0m\u001b[1;33m)\u001b[0m\u001b[1;33m)\u001b[0m\u001b[1;33m)\u001b[0m\u001b[1;33m\u001b[0m\u001b[1;33m\u001b[0m\u001b[0m\n\u001b[0;32m     12\u001b[0m \u001b[1;33m\u001b[0m\u001b[0m\n",
      "\u001b[1;32m<ipython-input-59-b24ff89c9777>\u001b[0m in \u001b[0;36mMultiplicityA\u001b[1;34m(qa, Na)\u001b[0m\n\u001b[0;32m      4\u001b[0m     \u001b[0mfactqa\u001b[0m \u001b[1;33m=\u001b[0m \u001b[0mqa\u001b[0m\u001b[1;33m\u001b[0m\u001b[1;33m\u001b[0m\u001b[0m\n\u001b[0;32m      5\u001b[0m     \u001b[0mfactNuma\u001b[0m \u001b[1;33m=\u001b[0m \u001b[0mfactorial\u001b[0m\u001b[1;33m(\u001b[0m\u001b[0mfactNuma\u001b[0m\u001b[1;33m)\u001b[0m\u001b[1;33m\u001b[0m\u001b[1;33m\u001b[0m\u001b[0m\n\u001b[1;32m----> 6\u001b[1;33m     \u001b[0mfactqa\u001b[0m \u001b[1;33m=\u001b[0m \u001b[0mfactorial\u001b[0m\u001b[1;33m(\u001b[0m\u001b[0mfactqa\u001b[0m\u001b[1;33m)\u001b[0m\u001b[1;33m\u001b[0m\u001b[1;33m\u001b[0m\u001b[0m\n\u001b[0m\u001b[0;32m      7\u001b[0m     \u001b[0mfactNa\u001b[0m \u001b[1;33m=\u001b[0m \u001b[0mfactorial\u001b[0m\u001b[1;33m(\u001b[0m\u001b[0mfactNa\u001b[0m\u001b[1;33m)\u001b[0m\u001b[1;33m\u001b[0m\u001b[1;33m\u001b[0m\u001b[0m\n\u001b[0;32m      8\u001b[0m     \u001b[0mOmegaA\u001b[0m \u001b[1;33m=\u001b[0m \u001b[1;33m(\u001b[0m\u001b[0mfactNuma\u001b[0m\u001b[1;33m)\u001b[0m\u001b[1;33m/\u001b[0m\u001b[1;33m(\u001b[0m\u001b[0mfactqa\u001b[0m\u001b[1;33m*\u001b[0m\u001b[0mfactNa\u001b[0m\u001b[1;33m)\u001b[0m\u001b[1;33m\u001b[0m\u001b[1;33m\u001b[0m\u001b[0m\n",
      "\u001b[1;32m<ipython-input-58-be0fa8f547fa>\u001b[0m in \u001b[0;36mfactorial\u001b[1;34m(N)\u001b[0m\n\u001b[0;32m      5\u001b[0m        \u001b[1;32mreturn\u001b[0m \u001b[0mN\u001b[0m\u001b[1;33m\u001b[0m\u001b[1;33m\u001b[0m\u001b[0m\n\u001b[0;32m      6\u001b[0m     \u001b[1;32melse\u001b[0m\u001b[1;33m:\u001b[0m\u001b[1;33m\u001b[0m\u001b[1;33m\u001b[0m\u001b[0m\n\u001b[1;32m----> 7\u001b[1;33m        \u001b[1;32mreturn\u001b[0m \u001b[0mN\u001b[0m\u001b[1;33m*\u001b[0m\u001b[0mfactorial\u001b[0m\u001b[1;33m(\u001b[0m\u001b[0mN\u001b[0m\u001b[1;33m-\u001b[0m\u001b[1;36m1\u001b[0m\u001b[1;33m)\u001b[0m\u001b[1;33m\u001b[0m\u001b[1;33m\u001b[0m\u001b[0m\n\u001b[0m",
      "... last 1 frames repeated, from the frame below ...\n",
      "\u001b[1;32m<ipython-input-58-be0fa8f547fa>\u001b[0m in \u001b[0;36mfactorial\u001b[1;34m(N)\u001b[0m\n\u001b[0;32m      5\u001b[0m        \u001b[1;32mreturn\u001b[0m \u001b[0mN\u001b[0m\u001b[1;33m\u001b[0m\u001b[1;33m\u001b[0m\u001b[0m\n\u001b[0;32m      6\u001b[0m     \u001b[1;32melse\u001b[0m\u001b[1;33m:\u001b[0m\u001b[1;33m\u001b[0m\u001b[1;33m\u001b[0m\u001b[0m\n\u001b[1;32m----> 7\u001b[1;33m        \u001b[1;32mreturn\u001b[0m \u001b[0mN\u001b[0m\u001b[1;33m*\u001b[0m\u001b[0mfactorial\u001b[0m\u001b[1;33m(\u001b[0m\u001b[0mN\u001b[0m\u001b[1;33m-\u001b[0m\u001b[1;36m1\u001b[0m\u001b[1;33m)\u001b[0m\u001b[1;33m\u001b[0m\u001b[1;33m\u001b[0m\u001b[0m\n\u001b[0m",
      "\u001b[1;31mRecursionError\u001b[0m: maximum recursion depth exceeded in comparison"
     ]
    }
   ],
   "source": [
    "Plot_Omega(Na,Nb,q)"
   ]
  },
  {
   "cell_type": "code",
   "execution_count": null,
   "metadata": {},
   "outputs": [],
   "source": []
  }
 ],
 "metadata": {
  "kernelspec": {
   "display_name": "Python 3",
   "language": "python",
   "name": "python3"
  },
  "language_info": {
   "codemirror_mode": {
    "name": "ipython",
    "version": 3
   },
   "file_extension": ".py",
   "mimetype": "text/x-python",
   "name": "python",
   "nbconvert_exporter": "python",
   "pygments_lexer": "ipython3",
   "version": "3.7.3"
  }
 },
 "nbformat": 4,
 "nbformat_minor": 2
}
