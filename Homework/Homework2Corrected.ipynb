{
 "cells": [
  {
   "cell_type": "code",
   "execution_count": 28,
   "metadata": {},
   "outputs": [],
   "source": [
    "# Nicholas Munoz Homework 2 \n",
    "from sympy import factorial\n",
    "import math\n",
    "import numpy \n",
    "import sys\n",
    "sys.setrecursionlimit(1500)"
   ]
  },
  {
   "cell_type": "code",
   "execution_count": 105,
   "metadata": {},
   "outputs": [
    {
     "name": "stdout",
     "output_type": "stream",
     "text": [
      "Enter a value for qa30\n",
      "Enter a value for Nb200\n",
      "Enter a value for Na300\n"
     ]
    }
   ],
   "source": [
    "qa = int(input(\"Enter a value for qa\"))\n",
    "Nb = int(input(\"Enter a value for Nb\"))\n",
    "Na = int(input(\"Enter a value for Na\"))\n",
    "qb = 100-qa"
   ]
  },
  {
   "cell_type": "code",
   "execution_count": 113,
   "metadata": {},
   "outputs": [],
   "source": [
    "def factorial(N):\n",
    "    #This Function Finds the Factorial of any number passed into it\n",
    "  \n",
    "    if N == 1:\n",
    "       return N\n",
    "    elif N==0:\n",
    "        return 1\n",
    "    else :\n",
    "       return N*factorial(N-1)"
   ]
  },
  {
   "cell_type": "code",
   "execution_count": 114,
   "metadata": {},
   "outputs": [],
   "source": [
    "def MultiplicityA(qa,Na):\n",
    "    factNuma=(qa+Na-1)\n",
    "    factNa=(Na-1)\n",
    "    factqa = qa\n",
    "    factNuma = factorial(factNuma)\n",
    "    factqa = factorial(factqa)\n",
    "    factNa = factorial(factNa)\n",
    "    OmegaA = (factNuma)/(factqa*factNa)\n",
    "\n",
    "    return (OmegaA)"
   ]
  },
  {
   "cell_type": "code",
   "execution_count": 115,
   "metadata": {},
   "outputs": [],
   "source": [
    "def MultiplicityB(qb,Nb):\n",
    "    factNumb=(qb+Nb-1)\n",
    "    factNb=(Nb-1)\n",
    "    factqb = qb\n",
    "    factNumb = factorial(factNumb)\n",
    "    factqb = factorial(factqb)\n",
    "    factNb = factorial(factNb)\n",
    "    OmegaB = (factNumb)/(factqb*factNb)\n",
    "\n",
    "    return (OmegaB)\n"
   ]
  },
  {
   "cell_type": "code",
   "execution_count": 116,
   "metadata": {},
   "outputs": [
    {
     "name": "stdout",
     "output_type": "stream",
     "text": [
      "Multiplicity of A: 3.1624371430203467e+42\n",
      "Multiplicity of B: 5.223776923660865e+65\n",
      "Total Multiplicity: 1.651986617023768e+108\n"
     ]
    }
   ],
   "source": [
    "print (\"Multiplicity of A:\", MultiplicityA(qa,Na))\n",
    "print (\"Multiplicity of B:\", MultiplicityB(qb,Nb))\n",
    "print (\"Total Multiplicity:\", MultiplicityB(qb,Nb)*MultiplicityA(qa,Na))"
   ]
  },
  {
   "cell_type": "code",
   "execution_count": 110,
   "metadata": {},
   "outputs": [
    {
     "name": "stdout",
     "output_type": "stream",
     "text": [
      "enter a value for q50\n"
     ]
    }
   ],
   "source": [
    "q = int(input(\"enter a value for q\"))"
   ]
  },
  {
   "cell_type": "code",
   "execution_count": 117,
   "metadata": {},
   "outputs": [],
   "source": [
    "import matplotlib.pyplot as plt\n",
    "\n",
    "def Plot_Omega(Na, Nb, q):\n",
    "    \n",
    "    qa_series = range(q + 1)\n",
    "    Omega_A = []\n",
    "    Omega_B = []\n",
    "    \n",
    "    for qa in qa_series:\n",
    "        Omega_A.append((MultiplicityA(qa, Na)))\n",
    "        Omega_B.append((MultiplicityB(q-qa, Nb)))\n",
    "    \n",
    "    Omega_A = numpy.asarray(Omega_A)\n",
    "    Omega_B = numpy.asarray(Omega_B)\n",
    "    Omega_T = Omega_A * Omega_B\n",
    "    \n",
    "    plt.plot(qa_series, Omega_T, linewidth=1,color=\"red\")\n",
    "    plt.title(\"Multiplicity and Quantized Energy of Systems\")\n",
    "    plt.xlabel(\"$q_a$\")\n",
    "    plt.ylabel(\"Multiplicity\")"
   ]
  },
  {
   "cell_type": "code",
   "execution_count": 118,
   "metadata": {},
   "outputs": [
    {
     "data": {
      "image/png": "[encoded data removed]",
      "text/plain": [
       "<Figure size 432x288 with 1 Axes>"
      ]
     },
     "metadata": {
      "needs_background": "light"
     },
     "output_type": "display_data"
    }
   ],
   "source": [
    "Plot_Omega(Na,Nb,q)"
   ]
  },
  {
   "cell_type": "code",
   "execution_count": null,
   "metadata": {},
   "outputs": [],
   "source": []
  }
 ],
 "metadata": {
  "kernelspec": {
   "display_name": "Python 3",
   "language": "python",
   "name": "python3"
  },
  "language_info": {
   "codemirror_mode": {
    "name": "ipython",
    "version": 3
   },
   "file_extension": ".py",
   "mimetype": "text/x-python",
   "name": "python",
   "nbconvert_exporter": "python",
   "pygments_lexer": "ipython3",
   "version": "3.7.3"
  }
 },
 "nbformat": 4,
 "nbformat_minor": 2
}
