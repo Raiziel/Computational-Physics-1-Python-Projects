{
 "cells": [
  {
   "cell_type": "code",
   "execution_count": 24,
   "metadata": {},
   "outputs": [
    {
     "name": "stdout",
     "output_type": "stream",
     "text": [
      "Minimum LJ Value: -0.9743993169436167\n"
     ]
    }
   ],
   "source": [
    "## Program written by Nicholas V. Munoz\n",
    "import numpy as np\n",
    "import matplotlib.pyplot as plt\n",
    "\n",
    "def LJ(r):\n",
    "    ## Epsilon = 1\n",
    "    ## Sigma = 1 \n",
    "    r6 = r**6\n",
    "    r12 = r6*r6\n",
    "    return 4*(1/r12 - 1/r6)\n",
    "\n",
    "\n",
    "\n",
    "def Distance(x0, x1, y0, y1):\n",
    "    \n",
    "    return np.sqrt((x1-x0)**2+(y1-y0)**2)\n",
    "\n",
    "LJ_array = [] ## Empty array to append the total Energy \n",
    " \n",
    "\n",
    "\n",
    "def Minimum_LJ(N):\n",
    "    for i in range(N):\n",
    "        \n",
    "        \n",
    "        x1 = numpy.random.random() ## positions of each particle pair randomly generated \n",
    "        y1 = numpy.random.random() ## (x1,y1),(x2,y2),(x3,y3) \n",
    "        x2 = numpy.random.random()\n",
    "        y2 = numpy.random.random()\n",
    "        x3 = numpy.random.random()\n",
    "        y3 = numpy.random.random()\n",
    "        \n",
    "        r12 = Distance(x1, x2, y1, y2) # 1&2\n",
    "        r13 = Distance(x1, x3, y1, y3) # 1&3\n",
    "        r23 = Distance(x2, x3, y2, y3) # 2&3 \n",
    "        \n",
    "        Ex1_x2 = LJ(r12) # Similar to above we are calculating the LJ potential \n",
    "        Ex1_x3 = LJ(r13) # Between each particle pair 1-2, 1-3, 2-3\n",
    "        Ex2_x3 = LJ(r23) \n",
    "        \n",
    "        ESum = Ex1_x2 + Ex1_x3 + Ex2_x3\n",
    "        \n",
    "        LJ_array.append(ESum)\n",
    "        \n",
    "    return LJ_array\n",
    "\n",
    "\n",
    "print (\"Minimum LJ Value:\", min(Minimum_LJ(int(1e6))))\n",
    "\n",
    "\n",
    "\n"
   ]
  },
  {
   "cell_type": "code",
   "execution_count": null,
   "metadata": {},
   "outputs": [],
   "source": [
    "r = np.linspace(1.0,3.0,100)\n",
    "plt.plot(, Minimum_LJ(int(1e6)))\n",
    "plt.show()\n"
   ]
  },
  {
   "cell_type": "code",
   "execution_count": 37,
   "metadata": {},
   "outputs": [],
   "source": [
    "import numpy as np\n",
    "from scipy.spatial.distance import cdist\n",
    "from scipy.optimize import minimize\n",
    "import requests\n",
    "\n",
    "def get_pos_from_url(address='http://doye.chem.ox.ac.uk/jon/structures/LJ/points/', N=7):\n",
    "    url_address = address + str(N)\n",
    "    data_str = requests.get(url_address).text\n",
    "    return parse_url_text(data_str)    \n",
    "    \n",
    "def parse_url_text(data_str):\n",
    "    x_array = []\n",
    "    text = data_str.split('\\n')\n",
    "    for line in text:\n",
    "        [x_array.append(float(i)) for i in line.split()]\n",
    "    return np.array(x_array)\n",
    "\n",
    "def dist(N_atoms):\n",
    "    pos = get_pos_from_url(N = N_atoms)\n",
    "    pos = np.reshape(pos,[N_atoms,3])\n",
    "    #pos = 10*np.random.random(N_atoms*3)\n",
    "    #pos = np.reshape(pos,[N_atoms,3])\n",
    "    distance = cdist(pos,pos,'euclidean')\n",
    "    iu1 = np.triu_indices(N_atoms)\n",
    "    distance = distance[iu1]\n",
    "    index = np.argwhere(distance==0)\n",
    "    distance = np.delete(distance,index)\n",
    "    return distance\n",
    "    \n",
    "def LJ(r):\n",
    "    r6 = np.power(r,6)\n",
    "    r12 = np.multiply(r6,r6)\n",
    "    return 4*(1/r12 - 1/r6)\n",
    "    \n",
    "def Total_Energy(positions):\n",
    "\n",
    "    E = LJ(positions)\n",
    "    Energy = np.sum(E)\n",
    "    return Energy\n",
    "\n",
    "N_attempts = 50\n",
    "f_values = []\n",
    "x_values = []\n",
    "\n",
    "\n",
    "def ground_state_potential(N_atom):\n",
    "    pos = dist(N_atom)\n",
    "    for i in range(N_attempts):\n",
    "        \n",
    "        res = minimize(Total_Energy, pos, method='CG', tol=1e-4)\n",
    "        f_values.append(res.fun)\n",
    "        x_values.append(res.x)\n",
    "        if i%10==0:\n",
    "           print('Step: ', i, '  Value:', res.fun, \"Number of Iterations: \", res.nit)\n",
    "\n",
    "    print('The ground state potential is:  ', min(f_values))\n",
    "def ground_state_potential2(N_atom):\n",
    "    pos = dist(N_atom)\n",
    "    for i in range(N_attempts):\n",
    "        \n",
    "        res = minimize(Total_Energy, pos, method='Nelder-Mead', tol=1e-4)\n",
    "        f_values.append(res.fun)\n",
    "        x_values.append(res.x)\n",
    "        if i%10==0:\n",
    "            print('Step: ', i, '  Value:', res.fun, \"Number of Iterations: \", res.nit)\n",
    "\n",
    "    print('The ground state potential is:  ', min(f_values))\n",
    "def ground_state_potential3(N_atom):\n",
    "    pos = dist(N_atom)\n",
    "    for i in range(N_attempts):\n",
    "        \n",
    "        res = minimize(Total_Energy, pos, method='Powell', tol=1e-4)\n",
    "        f_values.append(res.fun)\n",
    "        x_values.append(res.x)\n",
    "        if i%10==0:\n",
    "            print('Step: ', i, '  Value:', res.fun, \"Number of Iterations: \", res.nit)\n",
    "\n",
    "    print('The ground state potential is:  ', min(f_values))\n",
    "def ground_state_potential4(N_atom):\n",
    "    pos = dist(N_atom)\n",
    "    for i in range(N_attempts):\n",
    "        \n",
    "        res = minimize(Total_Energy, pos, method='BFGS', tol=1e-4)\n",
    "        f_values.append(res.fun)\n",
    "        x_values.append(res.x)\n",
    "        if i%10==0:\n",
    "           print('Step: ', i, '  Value:', res.fun, \"Number of Iterations: \", res.nit)\n",
    "\n",
    "    print('The ground state potential is:  ', min(f_values))"
   ]
  },
  {
   "cell_type": "code",
   "execution_count": 35,
   "metadata": {},
   "outputs": [
    {
     "name": "stdout",
     "output_type": "stream",
     "text": [
      "Using Nelder-Mead optimization \n",
      "\n",
      "Step:  0   Value: -36.479474281061705 Number of Iterations:  7776\n",
      "Step:  10   Value: -36.479474281061705 Number of Iterations:  7776\n",
      "Step:  20   Value: -36.479474281061705 Number of Iterations:  7776\n",
      "Step:  30   Value: -36.479474281061705 Number of Iterations:  7776\n",
      "Step:  40   Value: -36.479474281061705 Number of Iterations:  7776\n",
      "The ground state potential is:   -189.99999999991604\n",
      "CPU times: user 17.7 s, sys: 44.4 ms, total: 17.8 s\n",
      "Wall time: 18.1 s\n"
     ]
    }
   ],
   "source": [
    "%%time\n",
    "print(\"Using Nelder-Mead optimization\", \"\\n\")\n",
    "ground_state_potential2(10)"
   ]
  },
  {
   "cell_type": "code",
   "execution_count": 40,
   "metadata": {},
   "outputs": [
    {
     "name": "stdout",
     "output_type": "stream",
     "text": [
      "Using BFGS optimization \n",
      "\n",
      "Step:  0   Value: -104.99999999911111 Number of Iterations:  127\n",
      "Step:  10   Value: -104.99999999911111 Number of Iterations:  127\n",
      "Step:  20   Value: -104.99999999911111 Number of Iterations:  127\n",
      "Step:  30   Value: -104.99999999911111 Number of Iterations:  127\n",
      "Step:  40   Value: -104.99999999911111 Number of Iterations:  127\n",
      "The ground state potential is:   -104.99999999911111\n",
      "CPU times: user 1min 11s, sys: 395 ms, total: 1min 11s\n",
      "Wall time: 18.3 s\n"
     ]
    }
   ],
   "source": [
    "%%time\n",
    "print(\"Using BFGS optimization\",\"\\n\")\n",
    "ground_state_potential4(15)"
   ]
  },
  {
   "cell_type": "code",
   "execution_count": 34,
   "metadata": {},
   "outputs": [
    {
     "name": "stdout",
     "output_type": "stream",
     "text": [
      "Using CG optimization \n",
      "\n",
      "Step:  0   Value: -189.99999999991604 Number of Iterations:  56\n",
      "Step:  10   Value: -189.99999999991604 Number of Iterations:  56\n",
      "Step:  20   Value: -189.99999999991604 Number of Iterations:  56\n",
      "Step:  30   Value: -189.99999999991604 Number of Iterations:  56\n",
      "Step:  40   Value: -189.99999999991604 Number of Iterations:  56\n",
      "The ground state potential is:   -189.99999999991604\n",
      "CPU times: user 30.4 s, sys: 102 ms, total: 30.5 s\n",
      "Wall time: 30.9 s\n"
     ]
    }
   ],
   "source": [
    "%%time\n",
    "print(\"Using CG optimization\", \"\\n\") \n",
    "ground_state_potential(20)"
   ]
  },
  {
   "cell_type": "code",
   "execution_count": 36,
   "metadata": {},
   "outputs": [
    {
     "name": "stdout",
     "output_type": "stream",
     "text": [
      "Using Powell optimization \n",
      "\n",
      "Step:  0   Value: -434.9999999999909 Number of Iterations:  3\n",
      "Step:  10   Value: -434.9999999999909 Number of Iterations:  3\n",
      "Step:  20   Value: -434.9999999999909 Number of Iterations:  3\n",
      "Step:  30   Value: -434.9999999999909 Number of Iterations:  3\n",
      "Step:  40   Value: -434.9999999999909 Number of Iterations:  3\n",
      "The ground state potential is:   -434.9999999999909\n",
      "CPU times: user 34 s, sys: 54.4 ms, total: 34 s\n",
      "Wall time: 34.4 s\n"
     ]
    }
   ],
   "source": [
    "%%time\n",
    "print(\"Using Powell optimization\",\"\\n\")\n",
    "ground_state_potential3(30)"
   ]
  },
  {
   "cell_type": "code",
   "execution_count": null,
   "metadata": {},
   "outputs": [],
   "source": [
    "## Overall we can see that Powell requires the least amount of iterations to find the ground \n",
    "## state potential meaning that powell is very efficient to use \n",
    "## Powell doesn't use gradients in comparison to the other function \n",
    "## meaning that it cuts down on memory usage & time finding derivative functions\n",
    "## and uses I guess a \"brute force\" method through really close approximation comparisons\n",
    "## of values by searching for the actual value. It's mostly a smart way of searching through\n",
    "## a region very quickly "
   ]
  }
 ],
 "metadata": {
  "kernelspec": {
   "display_name": "Python 3",
   "language": "python",
   "name": "python3"
  },
  "language_info": {
   "codemirror_mode": {
    "name": "ipython",
    "version": 3
   },
   "file_extension": ".py",
   "mimetype": "text/x-python",
   "name": "python",
   "nbconvert_exporter": "python",
   "pygments_lexer": "ipython3",
   "version": "3.7.3"
  }
 },
 "nbformat": 4,
 "nbformat_minor": 2
}
