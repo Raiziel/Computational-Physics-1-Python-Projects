{
 "cells": [
  {
   "cell_type": "code",
   "execution_count": 25,
   "metadata": {},
   "outputs": [
    {
     "data": {
      "image/png": "[encoded data removed]",
      "text/plain": [
       "<Figure size 432x288 with 1 Axes>"
      ]
     },
     "metadata": {
      "needs_background": "light"
     },
     "output_type": "display_data"
    }
   ],
   "source": [
    "from random import random\n",
    "import matplotlib.pyplot as plt\n",
    "import numpy as np\n",
    "import statistics \n",
    "def f(x):\n",
    "    return np.sqrt(1-(x-1)**2)\n",
    "def g(x):\n",
    "    return 2-np.sqrt(-x**2+4)\n",
    "\n",
    "x1 = np.linspace(0,2,100)\n",
    "y1 = f(x1)\n",
    "y2 = g(x1)\n",
    "\n",
    "fig1 = plt.figure()\n",
    "ax1 = fig1.add_subplot(111, aspect='equal')\n",
    "ax1.plot(x1, y1, label=\"$f(x)$\")\n",
    "ax1.plot(x1, y2, label=\"$g(x)$\")\n",
    "ax1.legend(loc=\"upper left\")\n",
    "ax1.set_xlim(0,2)\n",
    "ax1.set_ylim(0,2)\n",
    "ax1.fill_between(x1, y1, y2, where=y1>y2, facecolor='lightgreen')\n",
    "plt.show()\n"
   ]
  },
  {
   "cell_type": "code",
   "execution_count": 15,
   "metadata": {},
   "outputs": [],
   "source": [
    "## Montecarlo Problem\n",
    "\n",
    "def MC(N, f, g, xstart, xend, ystart, yend):\n",
    "   \n",
    "    w = xend - xstart\n",
    "    h = yend - ystart\n",
    "    count = 0\n",
    "    \n",
    "    for i in range(N):\n",
    "        x = w*random() + xstart\n",
    "        y = h*random() + ystart\n",
    "        if (y < f(x) and y > g(x)):\n",
    "            count += 1\n",
    "    I = w*h*count/N\n",
    "    \n",
    "    return I"
   ]
  },
  {
   "cell_type": "code",
   "execution_count": 16,
   "metadata": {},
   "outputs": [
    {
     "name": "stdout",
     "output_type": "stream",
     "text": [
      "0.96\n",
      "0.984\n",
      "0.9988\n",
      "0.96952\n"
     ]
    }
   ],
   "source": [
    "print(MC(100,f,g,0,2,0,2))\n",
    "print(MC(1000,f,g,0,2,0,2))\n",
    "print(MC(10000,f,g,0,2,0,2))\n",
    "print(MC(100000,f,g,0,2,0,2))\n",
    "## This is the area of the shaded region over a sample of N size"
   ]
  },
  {
   "cell_type": "code",
   "execution_count": 38,
   "metadata": {},
   "outputs": [],
   "source": [
    "## In order to find our variances we want to be able to loop through the different N ranges\n",
    "## to find our differences with the sampling pool thus helping improve the accuracy of our set\n",
    "def stat(N, f, g, xstart, xend, ystart, yend, k):\n",
    "    data = np.zeros(k)\n",
    "    \n",
    "    for i in range(k):\n",
    "        data[i]=MC(N,f,g,xstart,xend,ystart,yend)\n",
    "        \n",
    "    return np.var(data)\n",
    "    \n",
    "    "
   ]
  },
  {
   "cell_type": "code",
   "execution_count": 39,
   "metadata": {},
   "outputs": [
    {
     "name": "stdout",
     "output_type": "stream",
     "text": [
      "0.03531824\n",
      "0.0031359424000000015\n",
      "0.0002669249759999999\n",
      "2.8468047359999988e-05\n"
     ]
    }
   ],
   "source": [
    "k = 100\n",
    "kdiff = [100,1000,10000,100000]\n",
    "\n",
    "for i in kdiff:\n",
    "    print (stat(i, f, g, 0, 2, 0, 2, k,))"
   ]
  },
  {
   "cell_type": "code",
   "execution_count": 41,
   "metadata": {},
   "outputs": [],
   "source": [
    "## So what we can tell from the variance is that the range of accuracy becomes significantly more accurate\n",
    "## given that the range of N is increased. The larger the sampling pool the more accurate our approximation\n",
    "## will end up being. \n",
    "## The run time of the program will take longer because of such a large sampling size at N = 100000\n",
    "## but this will help us find a more closer representation of the number that we want to find"
   ]
  },
  {
   "cell_type": "code",
   "execution_count": 83,
   "metadata": {},
   "outputs": [
    {
     "name": "stdout",
     "output_type": "stream",
     "text": [
      "2.0000000000000004\n"
     ]
    }
   ],
   "source": [
    "from scipy.integrate import quad\n",
    "r = lambda x: 1/np.sqrt(x)/(np.exp(x)+1)\n",
    "w = lambda x: 1/np.sqrt(x)\n",
    "## P(x) = w(x)/integral([a,b]w(x)dx) Our range in this case is from 0 to 1\n",
    "wint = quad(w,0,1)[0]\n",
    "print(wint)"
   ]
  },
  {
   "cell_type": "code",
   "execution_count": 48,
   "metadata": {},
   "outputs": [],
   "source": [
    "## So from here we can just roughly say that wint is 2 thus p(x) = w / 2\n",
    "## which p(x) = 1/2(sqrt(x))\n",
    "## we then integrate p(x) to get p(x) = x**(1/2) thus, F(x) = x^1/2, F^-1(x) will then be y = x^2\n",
    "## 1/N * Sum from 1 to N (fxi/wxi)*wint\n",
    "## N = 1,000,000"
   ]
  },
  {
   "cell_type": "code",
   "execution_count": 102,
   "metadata": {},
   "outputs": [],
   "source": [
    "Finverse = lambda x: x*x"
   ]
  },
  {
   "cell_type": "code",
   "execution_count": 103,
   "metadata": {},
   "outputs": [
    {
     "name": "stdout",
     "output_type": "stream",
     "text": [
      "Integral is  0.8389530010089724\n"
     ]
    }
   ],
   "source": [
    "def IMC(f, w, F, a, b, N):\n",
    "    \n",
    "    \n",
    "    const = wint\n",
    "    length = b - a\n",
    "    I=0\n",
    "    \n",
    "    \n",
    "    for i in range(N):\n",
    "        x = length*random() + a\n",
    "        y = F(x)\n",
    "        I += f(y)/w(y)\n",
    "        \n",
    "    return I/N*const\n",
    "print (\"Integral is \",IMC(r,w,Finverse,0,1,1000000))"
   ]
  },
  {
   "cell_type": "code",
   "execution_count": 109,
   "metadata": {},
   "outputs": [
    {
     "name": "stdout",
     "output_type": "stream",
     "text": [
      "30.983428333421266\n"
     ]
    }
   ],
   "source": [
    "## Part 2\n",
    "a1 = 3.5e-14 \n",
    "r2 = lambda x: 1/x/(np.exp(x)+1)\n",
    "w2 = lambda x: 1/x ## \n",
    "w2int = quad(w2,a1,1)[0]\n",
    "print (w2int) "
   ]
  },
  {
   "cell_type": "code",
   "execution_count": null,
   "metadata": {},
   "outputs": [],
   "source": [
    "## P(x) = (1/x)/(wint)\n",
    "## integral 1/x = 1/c(lnx) from a to x where x = 1\n",
    "## 1/c(lnx) - ln(a)\n",
    "## 1/c(lnx)\n",
    "## x = 1/c(lny) - lna \n",
    "## y = e**c(x + lna)"
   ]
  },
  {
   "cell_type": "code",
   "execution_count": 124,
   "metadata": {},
   "outputs": [],
   "source": [
    "from math import e, log\n",
    "ln_a1 = log(a1)\n",
    "F2inverse = lambda x: e**wint*(x+log(a1))"
   ]
  },
  {
   "cell_type": "code",
   "execution_count": 125,
   "metadata": {},
   "outputs": [
    {
     "name": "stdout",
     "output_type": "stream",
     "text": [
      "2.0000000000000004\n"
     ]
    }
   ],
   "source": [
    "print (IMC(r2, w2, F2inverse, a1, 1, 1000000))"
   ]
  },
  {
   "cell_type": "code",
   "execution_count": 115,
   "metadata": {},
   "outputs": [
    {
     "data": {
      "text/plain": [
       "15.248269868920646"
      ]
     },
     "execution_count": 115,
     "metadata": {},
     "output_type": "execute_result"
    }
   ],
   "source": [
    "quad(r2,a1,1)[0]"
   ]
  },
  {
   "cell_type": "code",
   "execution_count": null,
   "metadata": {},
   "outputs": [],
   "source": []
  }
 ],
 "metadata": {
  "kernelspec": {
   "display_name": "Python 3",
   "language": "python",
   "name": "python3"
  },
  "language_info": {
   "codemirror_mode": {
    "name": "ipython",
    "version": 3
   },
   "file_extension": ".py",
   "mimetype": "text/x-python",
   "name": "python",
   "nbconvert_exporter": "python",
   "pygments_lexer": "ipython3",
   "version": "3.7.3"
  }
 },
 "nbformat": 4,
 "nbformat_minor": 2
}
