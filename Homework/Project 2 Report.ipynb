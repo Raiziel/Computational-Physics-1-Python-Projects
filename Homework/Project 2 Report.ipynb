{
 "cells": [
  {
   "cell_type": "markdown",
   "metadata": {},
   "source": [
    "<p style=\"text-align: center;\"><font size=\"5\"> Modern Generation of Random Numbers</font> </p>\n",
    "\n",
    "<p style=\"text-align: center;\"><font size = \"4\">Nicholas Munoz</font>"
   ]
  },
  {
   "cell_type": "markdown",
   "metadata": {},
   "source": [
    "<font size=\"5\">True Random Number Generators </font>\n",
    "\n",
    "\"In comparison with PRNGs, TRNGs extract randomness from physical phenomena and introduce it into a computer. You can imagine this as a die connected to a computer, but typically people use a physical phenomenon that is easier to connect to a computer than a die is. The physical phenomenon can be very simple, like the little variations in somebody's mouse movements or in the amount of time between keystrokes. \n",
    "\n",
    "In practice, however, you have to be careful about which source you choose. For example, it can be tricky to use keystrokes in this fashion, because keystrokes are often buffered by the computer's operating system, meaning that several keystrokes are collected before they are sent to the program waiting for them. To a program waiting for the keystrokes, it will seem as though the keys were pressed almost simultaneously, and there may not be a lot of randomness there after all.\n",
    "   \n",
    "Regardless of which physical phenomenon is used, the process of generating true random numbers involves identifying little, unpredictable changes in the data.\"\n",
    "\n",
    "Pros\n",
    "- Actually random \n",
    "- Can use better statistical data that has a wide range \n",
    "- Provides a giant contrast in security \n",
    "\n",
    "Cons \n",
    "- Finding good data to model \n",
    "- Slow when harvesting large bulks of data such as entropical data from a hard disk\n",
    "\n",
    "<font size=\"5\"> Analysis </font>\n",
    "\n",
    "For TRNG's, this type of method is definitely great if we want to provide ourselves with the most \"pure\" form of randomness. Generally, we can use lots of data such as comsic background radiation, atomspheric noise, thermal noise, quantum data, etc... All of this stuff is good \" natural \" entropic data because entropy is very relatable to randomness. \n",
    "\n",
    "The greater the entropy the greater amount of disorder and complexity of states. The drawbacks is that there is a rate limit at which this data can really be used and sometimes slow down the process if you're in a pinch for a quick random generated number. \n",
    "\n",
    "It's good for the most accuracy of random occuring things but it does have negatives."
   ]
  },
  {
   "cell_type": "markdown",
   "metadata": {},
   "source": [
    "<font size=\"5\"> Pseudo-Random Number Generators </font>\n",
    "\n",
    "\"As the word ‘pseudo’ suggests, pseudo-random numbers are not random in the way you might expect, at least not if you're used to dice rolls or lottery tickets. Essentially, PRNGs are algorithms that use mathematical formulae or simply precalculated tables to produce sequences of numbers that appear random. \n",
    "\n",
    "The basic difference between PRNGs and TRNGs is easy to understand if you compare computer-generated random numbers to rolls of a die. Because PRNGs generate random numbers by using mathematical formulae or precalculated lists, using one corresponds to someone rolling a die many times and writing down the results. Whenever you ask for a die roll, you get the next on the list. Effectively, the numbers appear random, but they are really predetermined.\"\n",
    "\n",
    "Pros \n",
    "- Short Time Calculation\n",
    "- Deterministic, Easily Trackable from the initial sequence\n",
    "- Good for Simulations \n",
    "\n",
    "Cons \n",
    "- Predictable\n",
    "- Poor for security encryption\n",
    "- Not Truly Random\n",
    "\n",
    "<font size=\"5\"> Analysis</font>\n",
    "\n",
    "Overall, to summarize PRNG's are efficient in quick time generation making it very efficient when we want to run simulations or do some form of mathematical modeling. The main weakness for primarily things like cybersecurity and adhering to the rules of actual randomness is that pseudo-generated numbers aren't really random as they are too reliant on the seeded value. If the seeded value is kept secret from the user then we can say the random generator is generally pretty good. But, pseudo-generated numbers can sort of be de-randomized if we really want to break it down eventually finding our way back to the seed. \n",
    "\n",
    "If the programmer is very careful they can write an algorithim that is good for keeping things encrypted if they make their algorithim complex and keep their seed unknown then for the most part in the general sense one can use PRNG's. "
   ]
  },
  {
   "cell_type": "markdown",
   "metadata": {},
   "source": [
    "<font size=\"5\"> Pseudo-Generated Code </font>\n",
    "\n",
    "So below is code that was provided in class that is actually very good in terms of providing us uniformly distributed data which is what I wanted to focus on. We have a lot of repeated values which is kind of the unfortunate nature of PRNG's because eventually they begin to repeat patterns. This obviously not a large amount of values calculated but we can see that if we were to generate this for a N>>100 we would eventually end up with a predictable trend in distribution."
   ]
  },
  {
   "cell_type": "code",
   "execution_count": 16,
   "metadata": {},
   "outputs": [
    {
     "name": "stdout",
     "output_type": "stream",
     "text": [
      "[7, 5, 2, 3, 10, 4, 6, 9, 8, 1, 7, 5, 2, 3, 10, 4, 6, 9, 8, 1, 7, 5, 2, 3, 10, 4, 6, 9, 8, 1, 7, 5, 2, 3, 10, 4, 6, 9, 8, 1, 7, 5, 2, 3, 10, 4, 6, 9, 8, 1, 7, 5, 2, 3, 10, 4, 6, 9, 8, 1, 7, 5, 2, 3, 10, 4, 6, 9, 8, 1, 7, 5, 2, 3, 10, 4, 6, 9, 8, 1, 7, 5, 2, 3, 10, 4, 6, 9, 8, 1, 7, 5, 2, 3, 10, 4, 6, 9, 8, 1]\n"
     ]
    },
    {
     "data": {
      "text/plain": [
       "[<matplotlib.lines.Line2D at 0x820a20208>]"
      ]
     },
     "execution_count": 16,
     "metadata": {},
     "output_type": "execute_result"
    },
    {
     "data": {
      "image/png": "[encoded data removed]",
      "text/plain": [
       "<Figure size 432x288 with 1 Axes>"
      ]
     },
     "metadata": {
      "needs_background": "light"
     },
     "output_type": "display_data"
    }
   ],
   "source": [
    "# A code to generate pseudo random numbers\n",
    "import numpy as np\n",
    "import matplotlib.pyplot as plt\n",
    "\n",
    "N = 100\n",
    "a = 1624\n",
    "c = 1012\n",
    "m = 11 #2**31-1 #4245035300\n",
    "x = 1\n",
    "results = []\n",
    "\n",
    "for i in range(N):      \n",
    "    x = (a*x+c)%m\n",
    "    results.append(x)\n",
    "#print (len(results))\n",
    "data = results\n",
    "print (results)\n",
    "plt.title(\"Distribution of Pseuo-Random Numbers Generated\")\n",
    "plt.plot(results,\"o\")\n",
    "\n",
    "\n"
   ]
  },
  {
   "cell_type": "markdown",
   "metadata": {},
   "source": [
    "<font size=\"5\">Data Set Choice </font> \n",
    "\n",
    "The main focus for my data choices was to obtain a naturally occurring data set that has been tracked for a long period of time. My data set choice tracks the Mean average of Carbon-Dioxide emmisions from 1959 to 2019. \n",
    "\n",
    "   This data has very discrete changes in value which the primary focus is that for things to truly be random I needed really small detailed changes over time to be significant enough to call it natural. \n",
    "   \n",
    "   In order to keep to the design of \" True \" random number generators it's better I do something like that as the better the randomness the better design in generation. "
   ]
  },
  {
   "cell_type": "code",
   "execution_count": 9,
   "metadata": {},
   "outputs": [],
   "source": [
    "import numpy as np\n",
    "import secrets\n",
    "import matplotlib.pyplot as plt\n",
    "data=np.loadtxt(\"Carbon.txt\",float)"
   ]
  },
  {
   "cell_type": "code",
   "execution_count": 6,
   "metadata": {},
   "outputs": [
    {
     "data": {
      "image/png": "[encoded data removed]",
      "text/plain": [
       "<Figure size 432x288 with 1 Axes>"
      ]
     },
     "metadata": {
      "needs_background": "light"
     },
     "output_type": "display_data"
    }
   ],
   "source": [
    "year=[]\n",
    "carbon=[]\n",
    "\n",
    "for i in range (60):\n",
    "    year.append(data[i][0])\n",
    "    carbon.append(data[i][1])\n",
    "plt.title(\"Mean Carbon Dioxide Emmision from 1959-2019\")\n",
    "plt.xlabel(\"Year\")\n",
    "plt.ylabel(\"Mean Carbon Dioxide Emmission\")\n",
    "plt.plot(year,carbon,\"+\")\n",
    "plt.show()\n",
    "\n"
   ]
  },
  {
   "cell_type": "markdown",
   "metadata": {},
   "source": [
    "<font size=\"5\"> Secrets Library </font>\n",
    "\n",
    "<font size=\"3\">I used this library to explore the random generation of high quality password generation based on my data</font>\n",
    "\n",
    "class secrets.SystemRandom\n",
    "- A class for generating random numbers using the highest-quality sources provided by the operating system. See random.SystemRandom for additional details.\n",
    "\n",
    "secrets.choice(sequence)\n",
    "- Return a randomly-chosen element from a non-empty sequence.\n",
    "\n",
    "secrets.randbelow(n)\n",
    "- Return a random int in the range [0, n).\n",
    "\n",
    "secrets.randbits(k)\n",
    "- Return an int with k random bits."
   ]
  },
  {
   "cell_type": "markdown",
   "metadata": {},
   "source": [
    "<font size=\"5\"> Token Generation & Password Security</font>\n",
    "\n",
    "Generating tokens\n",
    "- The secrets module provides functions for generating secure tokens, suitable for applications such as password resets, hard-to-guess URLs, and similar.\n",
    "\n",
    "secrets.token_bytes([nbytes=None])\n",
    "- Return a random byte string containing nbytes number of bytes. If nbytes is None or not supplied, a reasonable default is used.\n",
    "\n",
    "token_bytes(16)  \n",
    "\n",
    "secrets.token_hex([nbytes=None])\n",
    "\n",
    "- Return a random text string, in hexadecimal. The string has nbytes random bytes, each byte converted to two hex digits. If nbytes is None or not supplied, a reasonable default is used.\n",
    "\n",
    "token_hex(16)  \n",
    "\n",
    "secrets.token_urlsafe([nbytes=None])\n",
    "\n",
    "- Return a random URL-safe text string, containing nbytes random bytes. The text is Base64 encoded, so on average each byte results in approximately 1.3 characters. If nbytes is None or not supplied, a reasonable default is used.\n",
    "\n",
    "token_urlsafe(16)  \n",
    "\n",
    "How many bytes should tokens use?\n",
    "\n",
    " To be secure against brute-force attacks, tokens need to have sufficient randomness. Unfortunately, what is considered sufficient will necessarily increase as computers get more powerful and able to make more guesses in a shorter period. As of 2015, it is believed that 32 bytes (256 bits) of randomness is sufficient for the typical use-case expected for the secrets module.\n",
    "\n"
   ]
  },
  {
   "cell_type": "markdown",
   "metadata": {},
   "source": [
    "<font size =\"5\"> Token| Hex | Byte | Bit Generator"
   ]
  },
  {
   "cell_type": "code",
   "execution_count": 10,
   "metadata": {},
   "outputs": [
    {
     "name": "stdout",
     "output_type": "stream",
     "text": [
      "349.19\n",
      "215\n",
      "9998943769174518778239269115130548899268536005895106863054730366130762589170587824397541870221631180061392455\n"
     ]
    }
   ],
   "source": [
    "print(secrets.choice(carbon))\n",
    "print(secrets.randbelow(int(secrets.choice(carbon))))\n",
    "print(secrets.randbits(int(secrets.choice(carbon))))"
   ]
  },
  {
   "cell_type": "markdown",
   "metadata": {},
   "source": [
    "The code above generates 3 things.\n",
    "\n",
    "First, is a number randomly chosen from my dataset based on Carbon Dioxide emmisions. \n",
    "\n",
    "Then I call that function into the randbelow function by converting the randomly converted number into an integer.\n",
    "\n",
    "Afterwards, a random integer within the range of that converted float->int is produced. \n",
    "\n",
    "Lastly, the integer is converted into random bits that produces quite a large value.\n",
    "\n",
    "Below, I can randomly choose from my array, converting to type int, then producing token values of n-input bytes."
   ]
  },
  {
   "cell_type": "code",
   "execution_count": 11,
   "metadata": {},
   "outputs": [
    {
     "data": {
      "text/plain": [
       "b\"\\x9e\\x02\\x89\\x84\\xae\\x05\\x1f\\xe6\\xd1\\x0b\\x97#\\xfb_\\x06.\\x1cb\\x9c\\x0c\\xbf\\xe1\\x88\\x92\\xd7]\\xc4\\xa3\\xdfQ\\xe4\\xd2\\x18U\\xb0\\x05\\xac\\xfbP/\\xb0\\xc1\\xd0\\x0e\\xe9T+#O\\xddqK\\x9e+\\x17\\xc8`\\x92\\xd7\\x89:\\xbe}vv\\xc2\\t\\x8dh\\x98\\x14\\xb1\\x80\\xb3\\x0b\\x8e\\xd9\\xe4\\xbe\\x95\\xa5\\\\o\\xf7-\\x9ab\\x11}%\\xb9\\x8b\\x108\\x89B;\\xb4\\x0btGm\\xe49\\xc4s\\x06\\x9d\\x94\\xbe\\xb1\\x13\\xbe\\xeb\\xee\\xe0D\\xa5\\xb9\\xc8\\xbcB\\xa4\\x12M\\xb5\\xef\\xa0wni\\xab\\x168\\x15\\x04y\\xa0\\xaf\\x8d\\xaf49s\\xd89\\xc4\\x01\\xc1\\xfa\\xa8)\\xf2\\x0eu<\\xa58\\xdf=\\x93T6\\xfcrL\\xa7D\\x80\\xedm\\xfa^\\x90`\\xba\\xa0\\xd2\\x86\\xd8-k\\x06\\xd9\\xc9d\\x10N\\xbfh^\\xb2\\xaa\\x85UB\\xfc-\\x173_\\x1b~\\x18\\xc8\\xce6\\x14\\xf3\\x9d\\x82\\x9c\\x8e'\\xf9K3\\xfbv\\xe6\\xfag\\xae\\xf6\\xf7\\xb4%/O\\xe6\\x9fa>)A\\xd2m\\x95}^p\\xc5S\\xbaOj\\x06\\xc2\\x04N\\x92;\\x97\\x8a\\xf4\\xfb\\x9b\\x86D1\\xea\\xb1}\\xf3\\x047b3\\x82\\xe2\\x15\\xcdX\\xe7,\\xf5\\xbe\\x99m\\xe9\\x9b\\xd3\\x1e#\\xbefL\\x17\\x1f\\x1a\\xdc\\x14\\x11#\\x16SS\\xfba.\\xa0fL\\xc9\\x0eE\\xdc/p\\x03\\xaa-6\\xce\\x02\\x8a\\xf3\\x0c\\xf0\\x1d\\x80Dl\\xaaD\\xc6\\x86\\x00\\xcb>4\\x80\\x9c\\x87\\x1a\\xe2\\x90\\xfa\\r\\t\\x84\\xf3\\xb1\\xebOV\\xc6\\xc77.\\xbbJw\\xa7\\xf9\\xc0\\x11\\xe2\\xfa\\x0fu[d\\xd3\\xd2\\r\\x1dQz:\\xc8^\\x93\\xaf\\xdf\\xeb\\x10\\xbc\\x04\\xb4\\xc1\\xce\\xc7\""
      ]
     },
     "execution_count": 11,
     "metadata": {},
     "output_type": "execute_result"
    }
   ],
   "source": [
    "secrets.token_bytes(int(secrets.choice(carbon)))"
   ]
  },
  {
   "cell_type": "markdown",
   "metadata": {},
   "source": [
    "This code below is fairly straightforward as the previous code, I choose values from my array once again transforming it into an integer then producing a hex value for the provided integer. This method is very efficient in producing random / strong string password protection. "
   ]
  },
  {
   "cell_type": "code",
   "execution_count": 12,
   "metadata": {},
   "outputs": [
    {
     "data": {
      "text/plain": [
       "'7884509affc8275028e6c2b863dcc65de1143af3063275217311b2710b7d97f71010d6c0f44f9a8fb6aaca80992428be242788e50f3cadfede5ed949767c3d6bb75dfc99cb4d8baf7ceb67937f76a325899cafe79409be86b798c047c73fd4f3ae44beca6d775b1a73bf167c6779db6aada5715c4fc2817c2fed5ae4166fa9a8194029730535cc85ad3a88a169d5a61b2d17734aca39a08327498b9238fb0edc80a25105badce41aca932e3954c5e7032f1c5fb7c7437a1ded4d6aa8eba6bb0864ca07c207f4c6c929187708ac22d1d595b0866915bf5eca7fedf40c76adf650f0372d04c512bfdbd3adc7961d680d5ec5d399e1ed7ddacdd7910cf1a463f2d79bd34d1baa41f8b72866ed6ec2b8a477105cb39fdd03b3e1a23a286722a5ffce4865b3f8e41b30501130f723cadeeff4982c28eef2202a0e55ab5982823132698ede733849699b14919e30'"
      ]
     },
     "execution_count": 12,
     "metadata": {},
     "output_type": "execute_result"
    }
   ],
   "source": [
    "secrets.token_hex(int(secrets.choice(carbon)))"
   ]
  },
  {
   "cell_type": "markdown",
   "metadata": {},
   "source": [
    "<p style=\"text-align: center;\"><font size =\"5\"> Sources used for Presentation & Report</font>\n",
    "\n",
    "<font size =\"3\">https://www.random.org/randomness </font>\n",
    "\n",
    "<font size =\"3\"> https://www.esrl.noaa.gov/gmd/ccgg/trends/data.html </font>\n",
    "\n",
    "<font size =\"3\"> https://en.wikipedia.org/wiki/Random_seed</font>\n",
    "\n",
    "<font size=\"3\"> https://docs.python.org/3/library/secrets.html?fbclid=IwAR2WJPbwHhW59uWSzF4ngQmi71OHCj3008yd79ML8OZyt6Lbra54apUJPhE</font>"
   ]
  },
  {
   "cell_type": "code",
   "execution_count": null,
   "metadata": {},
   "outputs": [],
   "source": []
  }
 ],
 "metadata": {
  "kernelspec": {
   "display_name": "Python 3",
   "language": "python",
   "name": "python3"
  },
  "language_info": {
   "codemirror_mode": {
    "name": "ipython",
    "version": 3
   },
   "file_extension": ".py",
   "mimetype": "text/x-python",
   "name": "python",
   "nbconvert_exporter": "python",
   "pygments_lexer": "ipython3",
   "version": "3.7.3"
  }
 },
 "nbformat": 4,
 "nbformat_minor": 2
}
