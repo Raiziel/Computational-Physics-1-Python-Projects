{
 "cells": [
  {
   "cell_type": "code",
   "execution_count": 67,
   "metadata": {},
   "outputs": [
    {
     "name": "stdout",
     "output_type": "stream",
     "text": [
      "Enter a Value for N100\n",
      "Enter a Value for q50\n"
     ]
    }
   ],
   "source": [
    "N = int(input(\"Enter a Value for N\"))\n",
    "q = int(input(\"Enter a Value for q\"))"
   ]
  },
  {
   "cell_type": "code",
   "execution_count": 68,
   "metadata": {},
   "outputs": [],
   "source": [
    "def factorial(N):\n",
    "    #This Function Finds the Factorial of any number passed into it\n",
    "  \n",
    "    if N == 1:\n",
    "       return N\n",
    "    else:\n",
    "       return N*factorial(N-1)"
   ]
  },
  {
   "cell_type": "code",
   "execution_count": 69,
   "metadata": {},
   "outputs": [
    {
     "name": "stdout",
     "output_type": "stream",
     "text": [
      " q :  50\n",
      " N :  100\n",
      "Omega :  1.341910727315462e+40\n"
     ]
    }
   ],
   "source": [
    "for i in range (0,q-1):\n",
    "    factNum = (q+N-1)\n",
    "    factN = (N-1)\n",
    "    factq = q\n",
    "    factNum = factorial(factNum) \n",
    "    factq = factorial(factq)\n",
    "    factN = factorial(factN)\n",
    "    W = (factNum)/(factq*factN)\n",
    "  \n",
    "print (\" q : \" , q )\n",
    "print (\" N : \" , N )\n",
    "print (\"Omega : \" ,W ) "
   ]
  },
  {
   "cell_type": "code",
   "execution_count": null,
   "metadata": {},
   "outputs": [],
   "source": []
  }
 ],
 "metadata": {
  "kernelspec": {
   "display_name": "Python 3",
   "language": "python",
   "name": "python3"
  },
  "language_info": {
   "codemirror_mode": {
    "name": "ipython",
    "version": 3
   },
   "file_extension": ".py",
   "mimetype": "text/x-python",
   "name": "python",
   "nbconvert_exporter": "python",
   "pygments_lexer": "ipython3",
   "version": "3.7.3"
  }
 },
 "nbformat": 4,
 "nbformat_minor": 2
}
