{
 "cells": [
  {
   "cell_type": "code",
   "execution_count": 2,
   "metadata": {},
   "outputs": [],
   "source": [
    "## Program written by Nicholas Munoz\n",
    "## Wine Data Set Imported with Kneighbor Classifier\n",
    "from sklearn.datasets import load_wine\n",
    "dataset = load_wine()\n",
    "X = dataset.data\n",
    "Y = dataset.target"
   ]
  },
  {
   "cell_type": "code",
   "execution_count": 3,
   "metadata": {},
   "outputs": [],
   "source": [
    "from sklearn.model_selection import train_test_split\n",
    "\n",
    "X_train, X_test, y_train, y_test = train_test_split(X, Y)\n"
   ]
  },
  {
   "cell_type": "code",
   "execution_count": 4,
   "metadata": {},
   "outputs": [],
   "source": [
    "from sklearn.neighbors import KNeighborsClassifier\n",
    "estimator = KNeighborsClassifier()"
   ]
  },
  {
   "cell_type": "code",
   "execution_count": 5,
   "metadata": {},
   "outputs": [
    {
     "data": {
      "text/plain": [
       "KNeighborsClassifier(algorithm='auto', leaf_size=30, metric='minkowski',\n",
       "                     metric_params=None, n_jobs=None, n_neighbors=5, p=2,\n",
       "                     weights='uniform')"
      ]
     },
     "execution_count": 5,
     "metadata": {},
     "output_type": "execute_result"
    }
   ],
   "source": [
    "import numpy as np\n",
    "\n",
    "estimator.fit(X_train, y_train)"
   ]
  },
  {
   "cell_type": "code",
   "execution_count": 6,
   "metadata": {},
   "outputs": [
    {
     "name": "stdout",
     "output_type": "stream",
     "text": [
      "The accuracy is 71.1%\n"
     ]
    }
   ],
   "source": [
    "y_predicted = estimator.predict(X_test)\n",
    "\n",
    "#test the accuracy\n",
    "accuracy = np.mean(y_test == y_predicted) *100\n",
    "print(\"The accuracy is {0:.1f}%\".format(accuracy))"
   ]
  },
  {
   "cell_type": "code",
   "execution_count": 7,
   "metadata": {},
   "outputs": [
    {
     "name": "stdout",
     "output_type": "stream",
     "text": [
      "The accuracy is 66.4%\n"
     ]
    }
   ],
   "source": [
    "from sklearn.model_selection import cross_val_score\n",
    "scores = cross_val_score(estimator, X, Y, scoring = 'accuracy')\n",
    "average_accuracy = np.mean(scores)*100\n",
    "print(\"The accuracy is {0:.1f}%\".format(average_accuracy))"
   ]
  },
  {
   "cell_type": "code",
   "execution_count": 8,
   "metadata": {},
   "outputs": [],
   "source": [
    "import warnings\n",
    "warnings.filterwarnings('ignore')\n",
    "\n",
    "avg_scores = []\n",
    "all_scores = []\n",
    "parameters = list(range(1,20))\n",
    "for n_neighbors in parameters:\n",
    "    estimator = KNeighborsClassifier()\n",
    "    scores = cross_val_score(estimator, X, Y, scoring = 'accuracy')\n",
    "    avg_scores.append(np.mean(scores))\n",
    "    all_scores.append(scores)"
   ]
  },
  {
   "cell_type": "code",
   "execution_count": 9,
   "metadata": {},
   "outputs": [
    {
     "data": {
      "image/png": "[encoded data removed]",
      "text/plain": [
       "<Figure size 432x288 with 1 Axes>"
      ]
     },
     "metadata": {
      "needs_background": "light"
     },
     "output_type": "display_data"
    }
   ],
   "source": [
    "%matplotlib inline\n",
    "\n",
    "import matplotlib.pyplot as plt\n",
    "plt.plot(parameters, avg_scores, '-o')\n",
    "plt.xlabel('N-Neighbour')\n",
    "plt.ylabel('Accuracy')\n",
    "plt.ylim([0.5,1.0])\n",
    "\n",
    "plt.show()\n"
   ]
  },
  {
   "cell_type": "code",
   "execution_count": 10,
   "metadata": {},
   "outputs": [],
   "source": [
    "from sklearn.datasets import load_iris\n",
    "import numpy as np\n",
    "\n",
    "dataset = load_iris() #Data from sklearn library\n",
    "X = dataset.data\n",
    "Y = dataset.target\n",
    "\n",
    "X_d = np.array( X>X.mean(), dtype='int')"
   ]
  },
  {
   "cell_type": "code",
   "execution_count": 11,
   "metadata": {},
   "outputs": [
    {
     "data": {
      "text/html": [
       "<div>\n",
       "<style scoped>\n",
       "    .dataframe tbody tr th:only-of-type {\n",
       "        vertical-align: middle;\n",
       "    }\n",
       "\n",
       "    .dataframe tbody tr th {\n",
       "        vertical-align: top;\n",
       "    }\n",
       "\n",
       "    .dataframe thead th {\n",
       "        text-align: right;\n",
       "    }\n",
       "</style>\n",
       "<table border=\"1\" class=\"dataframe\">\n",
       "  <thead>\n",
       "    <tr style=\"text-align: right;\">\n",
       "      <th></th>\n",
       "      <th>Sepal Length</th>\n",
       "      <th>Sepal Width</th>\n",
       "      <th>Petal Length</th>\n",
       "      <th>Petal Width</th>\n",
       "      <th>Label</th>\n",
       "    </tr>\n",
       "  </thead>\n",
       "  <tbody>\n",
       "    <tr>\n",
       "      <th>0</th>\n",
       "      <td>5.1</td>\n",
       "      <td>3.5</td>\n",
       "      <td>1.4</td>\n",
       "      <td>0.2</td>\n",
       "      <td>0</td>\n",
       "    </tr>\n",
       "    <tr>\n",
       "      <th>1</th>\n",
       "      <td>4.9</td>\n",
       "      <td>3.0</td>\n",
       "      <td>1.4</td>\n",
       "      <td>0.2</td>\n",
       "      <td>0</td>\n",
       "    </tr>\n",
       "    <tr>\n",
       "      <th>2</th>\n",
       "      <td>4.7</td>\n",
       "      <td>3.2</td>\n",
       "      <td>1.3</td>\n",
       "      <td>0.2</td>\n",
       "      <td>0</td>\n",
       "    </tr>\n",
       "    <tr>\n",
       "      <th>3</th>\n",
       "      <td>4.6</td>\n",
       "      <td>3.1</td>\n",
       "      <td>1.5</td>\n",
       "      <td>0.2</td>\n",
       "      <td>0</td>\n",
       "    </tr>\n",
       "    <tr>\n",
       "      <th>4</th>\n",
       "      <td>5.0</td>\n",
       "      <td>3.6</td>\n",
       "      <td>1.4</td>\n",
       "      <td>0.2</td>\n",
       "      <td>0</td>\n",
       "    </tr>\n",
       "    <tr>\n",
       "      <th>...</th>\n",
       "      <td>...</td>\n",
       "      <td>...</td>\n",
       "      <td>...</td>\n",
       "      <td>...</td>\n",
       "      <td>...</td>\n",
       "    </tr>\n",
       "    <tr>\n",
       "      <th>145</th>\n",
       "      <td>6.7</td>\n",
       "      <td>3.0</td>\n",
       "      <td>5.2</td>\n",
       "      <td>2.3</td>\n",
       "      <td>2</td>\n",
       "    </tr>\n",
       "    <tr>\n",
       "      <th>146</th>\n",
       "      <td>6.3</td>\n",
       "      <td>2.5</td>\n",
       "      <td>5.0</td>\n",
       "      <td>1.9</td>\n",
       "      <td>2</td>\n",
       "    </tr>\n",
       "    <tr>\n",
       "      <th>147</th>\n",
       "      <td>6.5</td>\n",
       "      <td>3.0</td>\n",
       "      <td>5.2</td>\n",
       "      <td>2.0</td>\n",
       "      <td>2</td>\n",
       "    </tr>\n",
       "    <tr>\n",
       "      <th>148</th>\n",
       "      <td>6.2</td>\n",
       "      <td>3.4</td>\n",
       "      <td>5.4</td>\n",
       "      <td>2.3</td>\n",
       "      <td>2</td>\n",
       "    </tr>\n",
       "    <tr>\n",
       "      <th>149</th>\n",
       "      <td>5.9</td>\n",
       "      <td>3.0</td>\n",
       "      <td>5.1</td>\n",
       "      <td>1.8</td>\n",
       "      <td>2</td>\n",
       "    </tr>\n",
       "  </tbody>\n",
       "</table>\n",
       "<p>150 rows × 5 columns</p>\n",
       "</div>"
      ],
      "text/plain": [
       "     Sepal Length   Sepal Width  Petal Length  Petal Width  Label\n",
       "0              5.1          3.5           1.4          0.2      0\n",
       "1              4.9          3.0           1.4          0.2      0\n",
       "2              4.7          3.2           1.3          0.2      0\n",
       "3              4.6          3.1           1.5          0.2      0\n",
       "4              5.0          3.6           1.4          0.2      0\n",
       "..             ...          ...           ...          ...    ...\n",
       "145            6.7          3.0           5.2          2.3      2\n",
       "146            6.3          2.5           5.0          1.9      2\n",
       "147            6.5          3.0           5.2          2.0      2\n",
       "148            6.2          3.4           5.4          2.3      2\n",
       "149            5.9          3.0           5.1          1.8      2\n",
       "\n",
       "[150 rows x 5 columns]"
      ]
     },
     "execution_count": 11,
     "metadata": {},
     "output_type": "execute_result"
    }
   ],
   "source": [
    "## One Rule \n",
    "import numpy as np\n",
    "import matplotlib.pyplot as plt\n",
    "import pandas as pd\n",
    "from collections import OrderedDict\n",
    "from sklearn.datasets import load_iris\n",
    "att = [ 'Sepal Length',\n",
    "        'Sepal Width',\n",
    "        'Petal Length',\n",
    "        'Petal Width']\n",
    "\n",
    "dataset = load_iris()\n",
    "X = dataset.data\n",
    "Y = dataset.target\n",
    "\n",
    "Iris_data = OrderedDict({'Sepal Length ': X[:,0],\n",
    "             'Sepal Width': X[:,1],\n",
    "             'Petal Length': X[:,2],\n",
    "             'Petal Width': X[:,3],\n",
    "             'Label': Y})\n",
    "\n",
    "df = pd.DataFrame(Iris_data)\n",
    "pd.set_option('display.max_rows', 10)\n",
    "df\n"
   ]
  },
  {
   "cell_type": "code",
   "execution_count": 12,
   "metadata": {},
   "outputs": [],
   "source": [
    "def Rule(a):\n",
    "    means = [] # hold attribute means for each species\n",
    "    means.append(np.mean(a[:50]))     # setosa\n",
    "    means.append(np.mean(a[50:100]))  # versicolor\n",
    "    means.append(np.mean(a[100:150])) # virginica\n",
    "    \n",
    "    # take the average value between means to be edges\n",
    "    edges = [(means[0] + (means[1] - means[0])/2),\n",
    "             (means[1] + (means[2] - means[1])/2)]\n",
    "    # correct for cases where edges are decreasing\n",
    "    if edges[0] > edges[1]:\n",
    "        temp = edges[0]\n",
    "        edges[0] = edges[1]\n",
    "        edges[1] = temp\n",
    "    return edges\n",
    "def Frequency(attribute, rule):\n",
    "    \n",
    "    Type = []\n",
    "    for i in range(len(attribute)):\n",
    "        \n",
    "        if (attribute[i] < rule[0]):\n",
    "            Type.append(0)\n",
    "            \n",
    "        elif (attribute[i] >= rule[0] and attribute[i] < rule[1]):\n",
    "            Type.append(1)\n",
    "            \n",
    "        elif (attribute[i] >= rule[1]):\n",
    "            Type.append(2)\n",
    "    \n",
    "    return Type\n"
   ]
  },
  {
   "cell_type": "code",
   "execution_count": 13,
   "metadata": {},
   "outputs": [],
   "source": [
    "def TargetCount(AttrArray, target):\n",
    "    \n",
    "    count = 0\n",
    "    \n",
    "    for i in range(len(target)):\n",
    "        if AttrArray[i] == target[i]:\n",
    "            count += 1\n",
    "            \n",
    "    return count"
   ]
  },
  {
   "cell_type": "code",
   "execution_count": 14,
   "metadata": {},
   "outputs": [],
   "source": [
    "def Accuracy(Prediction, target):\n",
    "    \n",
    "    return (Prediction/len(target))*100"
   ]
  },
  {
   "cell_type": "code",
   "execution_count": 15,
   "metadata": {},
   "outputs": [
    {
     "name": "stdout",
     "output_type": "stream",
     "text": [
      "Length Counts: 112\n",
      "\n",
      "\n",
      "Sepal Length Accuracy: 74.66666666666667 %\n",
      "\n",
      "\n",
      "Sepal Width Accuracy: 22.0 %\n"
     ]
    }
   ],
   "source": [
    "## Sepal Length / Accuracy\n",
    "edge_Seplength = Rule(X[:,0]) \n",
    "Frequency_Seplength = Frequency(X[:,0], edge_Seplength) \n",
    "Prediction = TargetCount(Frequency_Seplength, Y)\n",
    "##\n",
    "print(\"Length Counts:\",Prediction)\n",
    "Accuracy_SepL = Accuracy(Prediction, Y)\n",
    "print('\\n')\n",
    "print(\"Sepal Length Accuracy:\", Accuracy_SepL, '%')\n",
    "#Sepal Width Accuracy\n",
    "edge_SepW = Rule(X[:,1]) \n",
    "Frequency_SepW = Frequency(X[:,1], edge_SepW) \n",
    "Prediction = TargetCount(Frequency_SepW, Y)\n",
    "Accuracy_SepW = Accuracy(Prediction, Y)\n",
    "##\n",
    "print('\\n')\n",
    "print(\"Sepal Width Accuracy:\", Accuracy_SepW, '%')"
   ]
  },
  {
   "cell_type": "code",
   "execution_count": 16,
   "metadata": {},
   "outputs": [
    {
     "name": "stdout",
     "output_type": "stream",
     "text": [
      "Length Counts: 142\n",
      "\n",
      "\n",
      "Petal Length Accuracy: 94.66666666666667 %\n",
      "\n",
      "\n",
      "Petal Width Accuracy: 96.0 %\n"
     ]
    }
   ],
   "source": [
    "## Petal Length / Accuracy\n",
    "edge_Petlength = Rule(X[:,2]) \n",
    "Frequency_Petlength = Frequency(X[:,2], edge_Petlength) \n",
    "Prediction = TargetCount(Frequency_Petlength, Y)\n",
    "##\n",
    "print(\"Length Counts:\", Prediction)\n",
    "Accuracy_PetL = Accuracy(Prediction, Y)\n",
    "print('\\n')\n",
    "print(\"Petal Length Accuracy:\", Accuracy_PetL, '%')\n",
    "#Petal Width Accuracy\n",
    "edge_PetW = Rule(X[:,3]) \n",
    "Frequency_PetW = Frequency(X[:,3], edge_PetW) \n",
    "Prediction = TargetCount(Frequency_PetW, Y)\n",
    "Accuracy_PetW = Accuracy(Prediction, Y)\n",
    "##\n",
    "print('\\n')\n",
    "print(\"Petal Width Accuracy:\", Accuracy_PetW, '%')\n"
   ]
  },
  {
   "cell_type": "markdown",
   "metadata": {},
   "source": [
    "What we can conclude is that from our data that Petal Width is the best indicator for our One Rule to be the best predictor "
   ]
  }
 ],
 "metadata": {
  "kernelspec": {
   "display_name": "Python 3",
   "language": "python",
   "name": "python3"
  },
  "language_info": {
   "codemirror_mode": {
    "name": "ipython",
    "version": 3
   },
   "file_extension": ".py",
   "mimetype": "text/x-python",
   "name": "python",
   "nbconvert_exporter": "python",
   "pygments_lexer": "ipython3",
   "version": "3.7.3"
  }
 },
 "nbformat": 4,
 "nbformat_minor": 2
}
