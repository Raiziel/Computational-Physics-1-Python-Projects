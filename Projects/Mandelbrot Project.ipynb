{
 "cells": [
  {
   "cell_type": "code",
   "execution_count": 15,
   "metadata": {},
   "outputs": [
    {
     "name": "stdout",
     "output_type": "stream",
     "text": [
      "Enter N Grid Size1000\n",
      "Enter Number of Iterations you'd like to run100\n"
     ]
    }
   ],
   "source": [
    "## Program Written by - Nicholas V. Munoz \n",
    "import numpy as np \n",
    "import matplotlib.pyplot as plt\n",
    "from numpy import newaxis\n",
    "import warnings\n",
    "warnings.simplefilter(action = \"ignore\", category = RuntimeWarning)\n",
    "N = int(input(\"Enter N Grid Size\")) ## NxN grid size\n",
    "Limit = 2 ## Our Limiting Value that Z should never pass\n",
    "Iteration = int(input(\"Enter Number of Iterations you'd like to run\")) "
   ]
  },
  {
   "cell_type": "code",
   "execution_count": 16,
   "metadata": {},
   "outputs": [],
   "source": [
    "def Mandelbrot(Limit,Iteration,N):\n",
    "    x = np.linspace(-2,2,N) ## Region −2 ≤ x ≤ 2 \n",
    "    y = np.linspace(-2,2,N) ## Region -2 ≤ y ≤ 2.\n",
    "    c = x[:,newaxis] + 1j*y[newaxis,:]\n",
    "    z = c\n",
    "    for j in range (Iteration):\n",
    "        z = z**2 + c\n",
    "    Mandelbrot_Set = (abs(z) < Limit) ## Checks the magnitude of Z to our limit\n",
    "    return np.transpose(Mandelbrot_Set) \n",
    "    mandelbrot_Set = Mandelbrot(Limit,Iteration,N)"
   ]
  },
  {
   "cell_type": "code",
   "execution_count": 19,
   "metadata": {},
   "outputs": [
    {
     "data": {
      "image/png": "[encoded data removed]",
      "text/plain": [
       "<Figure size 432x288 with 1 Axes>"
      ]
     },
     "metadata": {
      "needs_background": "light"
     },
     "output_type": "display_data"
    }
   ],
   "source": [
    "plt.imshow(Mandelbrot(Limit,Iteration,N))\n",
    "plt.gray()\n",
    "plt.axis([100,800,100,800])\n",
    "plt.show()"
   ]
  },
  {
   "cell_type": "code",
   "execution_count": null,
   "metadata": {},
   "outputs": [],
   "source": []
  }
 ],
 "metadata": {
  "kernelspec": {
   "display_name": "Python 3",
   "language": "python",
   "name": "python3"
  },
  "language_info": {
   "codemirror_mode": {
    "name": "ipython",
    "version": 3
   },
   "file_extension": ".py",
   "mimetype": "text/x-python",
   "name": "python",
   "nbconvert_exporter": "python",
   "pygments_lexer": "ipython3",
   "version": "3.7.3"
  }
 },
 "nbformat": 4,
 "nbformat_minor": 2
}
